{
 "cells": [
  {
   "cell_type": "code",
   "execution_count": 1,
   "metadata": {
    "collapsed": true
   },
   "outputs": [],
   "source": [
    "##Python Counter class\n",
    "##Anagram checker\n",
    "from collections import Counter"
   ]
  },
  {
   "cell_type": "code",
   "execution_count": 2,
   "metadata": {
    "collapsed": true
   },
   "outputs": [],
   "source": [
    "def is_anagram(word1,word2):\n",
    "    \"\"\"Checks whether the words are anagrams.\n",
    "\n",
    "    word1: string\n",
    "    word2: string\n",
    "\n",
    "    returns: boolean\n",
    "    \"\"\"\n",
    "    return Counter(word1)==Counter(word2)"
   ]
  },
  {
   "cell_type": "code",
   "execution_count": 3,
   "metadata": {
    "collapsed": false
   },
   "outputs": [
    {
     "name": "stdout",
     "output_type": "stream",
     "text": [
      "True\n",
      "False\n"
     ]
    }
   ],
   "source": [
    "print(is_anagram('tachymetric','mccarthyite'))\n",
    "print(is_anagram('banana','peach'))"
   ]
  },
  {
   "cell_type": "code",
   "execution_count": 8,
   "metadata": {
    "collapsed": false
   },
   "outputs": [
    {
     "name": "stdout",
     "output_type": "stream",
     "text": [
      "True\n"
     ]
    }
   ],
   "source": [
    "class Multiset(Counter):\n",
    "    \"\"\"A multiset is a set where elements can appear more than once.\"\"\"\n",
    "\n",
    "    def is_subset(self,other):\n",
    "        \"\"\"Checks whether self is a subset of other.\n",
    "\n",
    "        other: Multiset\n",
    "\n",
    "        returns: boolean\n",
    "        \"\"\"\n",
    "        for char,count in self.items():\n",
    "            if other[char] < count:\n",
    "                return False\n",
    "            return True\n",
    "    \n",
    "    # map the <= operator to is_subset\n",
    "    __le__=is_subset\n",
    "    \n",
    "def can_spell(word,tiles):\n",
    "    \"\"\"Checks whether a set of tiles can spell a word.\n",
    "\n",
    "    word: string\n",
    "    tiles: string\n",
    "\n",
    "    returns: boolean\n",
    "    \"\"\"\n",
    "    return Multiset(word) <= Multiset(tiles)\n",
    "\n",
    "print(can_spell('SYZYGY','AGSYYYZ'))"
   ]
  },
  {
   "cell_type": "code",
   "execution_count": 10,
   "metadata": {
    "collapsed": true
   },
   "outputs": [],
   "source": [
    "class Pmf(Counter):\n",
    "    '''A Counter with probabilities.'''\n",
    "    \n",
    "    def normalize(self):\n",
    "        \"\"\"Normalizes the PMF so the probabilities add to 1.\"\"\"\n",
    "        total = float(sum(self.values()))\n",
    "        for key in self:\n",
    "            self[key]/=total\n",
    "            \n",
    "            \n",
    "    def __add__(self,other):\n",
    "        \"\"\"Adds two distributions.\n",
    "\n",
    "        The result is the distribution of sums of values from the\n",
    "        two distributions.\n",
    "\n",
    "        other: Pmf\n",
    "\n",
    "        returns: new Pmf\n",
    "        \"\"\"\n",
    "        pmf = Pmf()\n",
    "        for key1,prob1 in self.items():\n",
    "            for key2,prob2 in other.items():\n",
    "                pmf[key1+key2]+=prob1*prob2\n",
    "        return pmf        \n",
    "    \n",
    "    def __hash__(self):\n",
    "        \"\"\"Returns an integer hash value.\"\"\"\n",
    "        return id(self)\n",
    "    \n",
    "    def __eq__(self,other):\n",
    "        return self is other\n",
    "    \n",
    "    def render(self):\n",
    "        \"\"\"Returns values and their probabilities, suitable for plotting.\"\"\"\n",
    "        return zip(*sorted(self.items()))"
   ]
  },
  {
   "cell_type": "code",
   "execution_count": 11,
   "metadata": {
    "collapsed": false
   },
   "outputs": [
    {
     "name": "stdout",
     "output_type": "stream",
     "text": [
      "Pmf({1: 0.16666666666666666, 2: 0.16666666666666666, 3: 0.16666666666666666, 4: 0.16666666666666666, 5: 0.16666666666666666, 6: 0.16666666666666666})\n"
     ]
    }
   ],
   "source": [
    "d6 = Pmf([1,2,3,4,5,6])\n",
    "d6.normalize()\n",
    "d6.name='one die'\n",
    "print(d6)"
   ]
  },
  {
   "cell_type": "code",
   "execution_count": 12,
   "metadata": {
    "collapsed": false
   },
   "outputs": [
    {
     "name": "stdout",
     "output_type": "stream",
     "text": [
      "2 0.027777777777777776\n",
      "3 0.05555555555555555\n",
      "4 0.08333333333333333\n",
      "5 0.1111111111111111\n",
      "6 0.1388888888888889\n",
      "7 0.16666666666666669\n",
      "8 0.1388888888888889\n",
      "9 0.1111111111111111\n",
      "10 0.08333333333333333\n",
      "11 0.05555555555555555\n",
      "12 0.027777777777777776\n"
     ]
    }
   ],
   "source": [
    "d6_twice = d6 + d6\n",
    "d6_twice.name = 'two dice'\n",
    "\n",
    "for key,prob in d6_twice.items():\n",
    "    print(key,prob)"
   ]
  },
  {
   "cell_type": "code",
   "execution_count": 15,
   "metadata": {
    "collapsed": false
   },
   "outputs": [
    {
     "data": {
      "image/png": "[encoded data removed]",
      "text/plain": [
       "<matplotlib.figure.Figure at 0x7fa91fa53860>"
      ]
     },
     "metadata": {},
     "output_type": "display_data"
    }
   ],
   "source": [
    "import matplotlib.pyplot as plt\n",
    "pmf_ident = Pmf([0])\n",
    "d6_thrice=sum([d6]*3,pmf_ident)\n",
    "d6_thrice.name='three dice'\n",
    "\n",
    "for die in [d6,d6_twice,d6_thrice]:\n",
    "    xs,ys=die.render()\n",
    "    plt.plot(xs,ys,label=die.name,linewidth=3,alpha=0.5)\n",
    "    \n",
    "plt.xlabel('Total')\n",
    "plt.ylabel('Probability')\n",
    "plt.legend()\n",
    "plt.show()"
   ]
  },
  {
   "cell_type": "code",
   "execution_count": 16,
   "metadata": {
    "collapsed": true
   },
   "outputs": [],
   "source": [
    "#Bayesian statistics\n",
    "class Suite(Pmf):\n",
    "    \"\"\"Map from hypothesis to probability.\"\"\"\n",
    "    \n",
    "    def bayesian_update(self,data):\n",
    "        \"\"\"Performs a Bayesian update.\n",
    "        \n",
    "        Note: called bayesian_update to avoid overriding dict.update\n",
    "\n",
    "        data: result of a die roll\n",
    "        \"\"\"\n",
    "        for hypo in self:\n",
    "            like = self.likelihood(data,hypo)\n",
    "            self[hypo] *= like\n",
    "            \n",
    "        self.normalize()    "
   ]
  },
  {
   "cell_type": "code",
   "execution_count": 18,
   "metadata": {
    "collapsed": false
   },
   "outputs": [
    {
     "name": "stdout",
     "output_type": "stream",
     "text": [
      "[Pmf({1: 0.25, 2: 0.25, 3: 0.25, 4: 0.25}), Pmf({1: 0.16666666666666666, 2: 0.16666666666666666, 3: 0.16666666666666666, 4: 0.16666666666666666, 5: 0.16666666666666666, 6: 0.16666666666666666}), Pmf({1: 0.125, 2: 0.125, 3: 0.125, 4: 0.125, 5: 0.125, 6: 0.125, 7: 0.125, 8: 0.125}), Pmf({1: 0.08333333333333333, 2: 0.08333333333333333, 3: 0.08333333333333333, 4: 0.08333333333333333, 5: 0.08333333333333333, 6: 0.08333333333333333, 7: 0.08333333333333333, 8: 0.08333333333333333, 9: 0.08333333333333333, 10: 0.08333333333333333, 11: 0.08333333333333333, 12: 0.08333333333333333}), Pmf({1: 0.05, 2: 0.05, 3: 0.05, 4: 0.05, 5: 0.05, 6: 0.05, 7: 0.05, 8: 0.05, 9: 0.05, 10: 0.05, 11: 0.05, 12: 0.05, 13: 0.05, 14: 0.05, 15: 0.05, 16: 0.05, 17: 0.05, 18: 0.05, 19: 0.05, 20: 0.05})]\n"
     ]
    }
   ],
   "source": [
    "def make_die(num_sides):\n",
    "    die =Pmf(range(1,num_sides+1))\n",
    "    die.name = 'd%d' % num_sides\n",
    "    die.normalize()\n",
    "    return die\n",
    "\n",
    "dice = [make_die(x) for x in [4,6,8,12,20]]\n",
    "print(dice)"
   ]
  },
  {
   "cell_type": "code",
   "execution_count": 20,
   "metadata": {
    "collapsed": true
   },
   "outputs": [],
   "source": [
    "class DiceSuite(Suite):\n",
    "    def likelihood(self,data,hypo):\n",
    "        \"\"\"Computes the likelihood of the data under the hypothesis.\n",
    "\n",
    "        data: result of a die roll\n",
    "        hypo: Die object\n",
    "        \"\"\"\n",
    "        return hypo[data]"
   ]
  },
  {
   "cell_type": "code",
   "execution_count": 21,
   "metadata": {
    "collapsed": false
   },
   "outputs": [
    {
     "name": "stdout",
     "output_type": "stream",
     "text": [
      "d4\n",
      "0.0\n",
      "d6\n",
      "0.39215686274509803\n",
      "d20\n",
      "0.11764705882352942\n",
      "d8\n",
      "0.29411764705882354\n",
      "d12\n",
      "0.19607843137254902\n"
     ]
    }
   ],
   "source": [
    "dice_suite = DiceSuite(dice)\n",
    "dice_suite.bayesian_update(6)\n",
    "\n",
    "for die,prob in dice_suite.items():\n",
    "    print(die.name)\n",
    "    print(prob)"
   ]
  },
  {
   "cell_type": "code",
   "execution_count": 22,
   "metadata": {
    "collapsed": false
   },
   "outputs": [
    {
     "name": "stdout",
     "output_type": "stream",
     "text": [
      "d4\n",
      "0.0\n",
      "d6\n",
      "0.0\n",
      "d20\n",
      "0.09972299168975071\n",
      "d8\n",
      "0.6232686980609419\n",
      "d12\n",
      "0.27700831024930744\n"
     ]
    }
   ],
   "source": [
    "dice_suite.bayesian_update(8)\n",
    "\n",
    "for die, prob in dice_suite.items():\n",
    "    print(die.name)\n",
    "    print(prob)\n"
   ]
  }
 ],
 "metadata": {
  "anaconda-cloud": {},
  "kernelspec": {
   "display_name": "Python [default]",
   "language": "python",
   "name": "python3"
  },
  "language_info": {
   "codemirror_mode": {
    "name": "ipython",
    "version": 3
   },
   "file_extension": ".py",
   "mimetype": "text/x-python",
   "name": "python",
   "nbconvert_exporter": "python",
   "pygments_lexer": "ipython3",
   "version": "3.5.2"
  }
 },
 "nbformat": 4,
 "nbformat_minor": 1
}
