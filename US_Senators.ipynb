{
 "cells": [
  {
   "cell_type": "code",
   "execution_count": 65,
   "metadata": {
    "collapsed": true
   },
   "outputs": [],
   "source": [
    "import pandas as pd"
   ]
  },
  {
   "cell_type": "code",
   "execution_count": 66,
   "metadata": {
    "collapsed": true
   },
   "outputs": [],
   "source": [
    "votes = pd.read_csv(\"/home/niraj/Downloads/114_congress.csv\")"
   ]
  },
  {
   "cell_type": "code",
   "execution_count": 67,
   "metadata": {
    "collapsed": false
   },
   "outputs": [
    {
     "data": {
      "text/html": [
       "<div>\n",
       "<table border=\"1\" class=\"dataframe\">\n",
       "  <thead>\n",
       "    <tr style=\"text-align: right;\">\n",
       "      <th></th>\n",
       "      <th>name</th>\n",
       "      <th>party</th>\n",
       "      <th>state</th>\n",
       "      <th>00001</th>\n",
       "      <th>00004</th>\n",
       "      <th>00005</th>\n",
       "      <th>00006</th>\n",
       "      <th>00007</th>\n",
       "      <th>00008</th>\n",
       "      <th>00009</th>\n",
       "      <th>00010</th>\n",
       "      <th>00020</th>\n",
       "      <th>00026</th>\n",
       "      <th>00032</th>\n",
       "      <th>00038</th>\n",
       "      <th>00039</th>\n",
       "      <th>00044</th>\n",
       "      <th>00047</th>\n",
       "    </tr>\n",
       "  </thead>\n",
       "  <tbody>\n",
       "    <tr>\n",
       "      <th>0</th>\n",
       "      <td>Alexander</td>\n",
       "      <td>R</td>\n",
       "      <td>TN</td>\n",
       "      <td>0.0</td>\n",
       "      <td>1.0</td>\n",
       "      <td>1.0</td>\n",
       "      <td>1.0</td>\n",
       "      <td>1.0</td>\n",
       "      <td>0.0</td>\n",
       "      <td>0.0</td>\n",
       "      <td>1.0</td>\n",
       "      <td>1.0</td>\n",
       "      <td>1.0</td>\n",
       "      <td>0.0</td>\n",
       "      <td>0.0</td>\n",
       "      <td>0.0</td>\n",
       "      <td>0.0</td>\n",
       "      <td>0.0</td>\n",
       "    </tr>\n",
       "    <tr>\n",
       "      <th>1</th>\n",
       "      <td>Ayotte</td>\n",
       "      <td>R</td>\n",
       "      <td>NH</td>\n",
       "      <td>0.0</td>\n",
       "      <td>1.0</td>\n",
       "      <td>1.0</td>\n",
       "      <td>1.0</td>\n",
       "      <td>1.0</td>\n",
       "      <td>0.0</td>\n",
       "      <td>0.0</td>\n",
       "      <td>1.0</td>\n",
       "      <td>0.0</td>\n",
       "      <td>1.0</td>\n",
       "      <td>0.0</td>\n",
       "      <td>1.0</td>\n",
       "      <td>0.0</td>\n",
       "      <td>1.0</td>\n",
       "      <td>0.0</td>\n",
       "    </tr>\n",
       "    <tr>\n",
       "      <th>2</th>\n",
       "      <td>Baldwin</td>\n",
       "      <td>D</td>\n",
       "      <td>WI</td>\n",
       "      <td>1.0</td>\n",
       "      <td>0.0</td>\n",
       "      <td>0.0</td>\n",
       "      <td>1.0</td>\n",
       "      <td>0.0</td>\n",
       "      <td>1.0</td>\n",
       "      <td>0.0</td>\n",
       "      <td>1.0</td>\n",
       "      <td>0.0</td>\n",
       "      <td>0.0</td>\n",
       "      <td>1.0</td>\n",
       "      <td>1.0</td>\n",
       "      <td>0.0</td>\n",
       "      <td>1.0</td>\n",
       "      <td>1.0</td>\n",
       "    </tr>\n",
       "    <tr>\n",
       "      <th>3</th>\n",
       "      <td>Barrasso</td>\n",
       "      <td>R</td>\n",
       "      <td>WY</td>\n",
       "      <td>0.0</td>\n",
       "      <td>1.0</td>\n",
       "      <td>1.0</td>\n",
       "      <td>1.0</td>\n",
       "      <td>1.0</td>\n",
       "      <td>0.0</td>\n",
       "      <td>1.0</td>\n",
       "      <td>1.0</td>\n",
       "      <td>1.0</td>\n",
       "      <td>1.0</td>\n",
       "      <td>0.0</td>\n",
       "      <td>0.0</td>\n",
       "      <td>1.0</td>\n",
       "      <td>0.0</td>\n",
       "      <td>0.0</td>\n",
       "    </tr>\n",
       "    <tr>\n",
       "      <th>4</th>\n",
       "      <td>Bennet</td>\n",
       "      <td>D</td>\n",
       "      <td>CO</td>\n",
       "      <td>0.0</td>\n",
       "      <td>0.0</td>\n",
       "      <td>0.0</td>\n",
       "      <td>1.0</td>\n",
       "      <td>0.0</td>\n",
       "      <td>1.0</td>\n",
       "      <td>0.0</td>\n",
       "      <td>1.0</td>\n",
       "      <td>0.0</td>\n",
       "      <td>0.0</td>\n",
       "      <td>0.0</td>\n",
       "      <td>1.0</td>\n",
       "      <td>0.0</td>\n",
       "      <td>1.0</td>\n",
       "      <td>0.0</td>\n",
       "    </tr>\n",
       "  </tbody>\n",
       "</table>\n",
       "</div>"
      ],
      "text/plain": [
       "        name party state  00001  00004  00005  00006  00007  00008  00009  \\\n",
       "0  Alexander     R    TN    0.0    1.0    1.0    1.0    1.0    0.0    0.0   \n",
       "1     Ayotte     R    NH    0.0    1.0    1.0    1.0    1.0    0.0    0.0   \n",
       "2    Baldwin     D    WI    1.0    0.0    0.0    1.0    0.0    1.0    0.0   \n",
       "3   Barrasso     R    WY    0.0    1.0    1.0    1.0    1.0    0.0    1.0   \n",
       "4     Bennet     D    CO    0.0    0.0    0.0    1.0    0.0    1.0    0.0   \n",
       "\n",
       "   00010  00020  00026  00032  00038  00039  00044  00047  \n",
       "0    1.0    1.0    1.0    0.0    0.0    0.0    0.0    0.0  \n",
       "1    1.0    0.0    1.0    0.0    1.0    0.0    1.0    0.0  \n",
       "2    1.0    0.0    0.0    1.0    1.0    0.0    1.0    1.0  \n",
       "3    1.0    1.0    1.0    0.0    0.0    1.0    0.0    0.0  \n",
       "4    1.0    0.0    0.0    0.0    1.0    0.0    1.0    0.0  "
      ]
     },
     "execution_count": 67,
     "metadata": {},
     "output_type": "execute_result"
    }
   ],
   "source": [
    "votes.head()"
   ]
  },
  {
   "cell_type": "code",
   "execution_count": 68,
   "metadata": {
    "collapsed": false
   },
   "outputs": [
    {
     "data": {
      "text/html": [
       "<div>\n",
       "<table border=\"1\" class=\"dataframe\">\n",
       "  <thead>\n",
       "    <tr style=\"text-align: right;\">\n",
       "      <th></th>\n",
       "      <th>00001</th>\n",
       "      <th>00004</th>\n",
       "      <th>00005</th>\n",
       "      <th>00006</th>\n",
       "      <th>00007</th>\n",
       "      <th>00008</th>\n",
       "      <th>00009</th>\n",
       "      <th>00010</th>\n",
       "      <th>00020</th>\n",
       "      <th>00026</th>\n",
       "      <th>00032</th>\n",
       "      <th>00038</th>\n",
       "      <th>00039</th>\n",
       "      <th>00044</th>\n",
       "      <th>00047</th>\n",
       "    </tr>\n",
       "  </thead>\n",
       "  <tbody>\n",
       "    <tr>\n",
       "      <th>count</th>\n",
       "      <td>100.000000</td>\n",
       "      <td>100.000000</td>\n",
       "      <td>100.000000</td>\n",
       "      <td>100.00000</td>\n",
       "      <td>100.00000</td>\n",
       "      <td>100.000000</td>\n",
       "      <td>100.00000</td>\n",
       "      <td>100.000000</td>\n",
       "      <td>100.000000</td>\n",
       "      <td>100.000000</td>\n",
       "      <td>100.000000</td>\n",
       "      <td>100.000000</td>\n",
       "      <td>100.000000</td>\n",
       "      <td>100.000000</td>\n",
       "      <td>100.000000</td>\n",
       "    </tr>\n",
       "    <tr>\n",
       "      <th>mean</th>\n",
       "      <td>0.325000</td>\n",
       "      <td>0.575000</td>\n",
       "      <td>0.535000</td>\n",
       "      <td>0.94500</td>\n",
       "      <td>0.54500</td>\n",
       "      <td>0.415000</td>\n",
       "      <td>0.54500</td>\n",
       "      <td>0.985000</td>\n",
       "      <td>0.525000</td>\n",
       "      <td>0.545000</td>\n",
       "      <td>0.410000</td>\n",
       "      <td>0.480000</td>\n",
       "      <td>0.510000</td>\n",
       "      <td>0.460000</td>\n",
       "      <td>0.370000</td>\n",
       "    </tr>\n",
       "    <tr>\n",
       "      <th>std</th>\n",
       "      <td>0.462618</td>\n",
       "      <td>0.494286</td>\n",
       "      <td>0.498761</td>\n",
       "      <td>0.22355</td>\n",
       "      <td>0.49795</td>\n",
       "      <td>0.492648</td>\n",
       "      <td>0.49795</td>\n",
       "      <td>0.111351</td>\n",
       "      <td>0.494286</td>\n",
       "      <td>0.487702</td>\n",
       "      <td>0.489176</td>\n",
       "      <td>0.497062</td>\n",
       "      <td>0.497367</td>\n",
       "      <td>0.495841</td>\n",
       "      <td>0.480004</td>\n",
       "    </tr>\n",
       "    <tr>\n",
       "      <th>min</th>\n",
       "      <td>0.000000</td>\n",
       "      <td>0.000000</td>\n",
       "      <td>0.000000</td>\n",
       "      <td>0.00000</td>\n",
       "      <td>0.00000</td>\n",
       "      <td>0.000000</td>\n",
       "      <td>0.00000</td>\n",
       "      <td>0.000000</td>\n",
       "      <td>0.000000</td>\n",
       "      <td>0.000000</td>\n",
       "      <td>0.000000</td>\n",
       "      <td>0.000000</td>\n",
       "      <td>0.000000</td>\n",
       "      <td>0.000000</td>\n",
       "      <td>0.000000</td>\n",
       "    </tr>\n",
       "    <tr>\n",
       "      <th>25%</th>\n",
       "      <td>0.000000</td>\n",
       "      <td>0.000000</td>\n",
       "      <td>0.000000</td>\n",
       "      <td>1.00000</td>\n",
       "      <td>0.00000</td>\n",
       "      <td>0.000000</td>\n",
       "      <td>0.00000</td>\n",
       "      <td>1.000000</td>\n",
       "      <td>0.000000</td>\n",
       "      <td>0.000000</td>\n",
       "      <td>0.000000</td>\n",
       "      <td>0.000000</td>\n",
       "      <td>0.000000</td>\n",
       "      <td>0.000000</td>\n",
       "      <td>0.000000</td>\n",
       "    </tr>\n",
       "    <tr>\n",
       "      <th>50%</th>\n",
       "      <td>0.000000</td>\n",
       "      <td>1.000000</td>\n",
       "      <td>1.000000</td>\n",
       "      <td>1.00000</td>\n",
       "      <td>1.00000</td>\n",
       "      <td>0.000000</td>\n",
       "      <td>1.00000</td>\n",
       "      <td>1.000000</td>\n",
       "      <td>1.000000</td>\n",
       "      <td>1.000000</td>\n",
       "      <td>0.000000</td>\n",
       "      <td>0.000000</td>\n",
       "      <td>0.750000</td>\n",
       "      <td>0.000000</td>\n",
       "      <td>0.000000</td>\n",
       "    </tr>\n",
       "    <tr>\n",
       "      <th>75%</th>\n",
       "      <td>1.000000</td>\n",
       "      <td>1.000000</td>\n",
       "      <td>1.000000</td>\n",
       "      <td>1.00000</td>\n",
       "      <td>1.00000</td>\n",
       "      <td>1.000000</td>\n",
       "      <td>1.00000</td>\n",
       "      <td>1.000000</td>\n",
       "      <td>1.000000</td>\n",
       "      <td>1.000000</td>\n",
       "      <td>1.000000</td>\n",
       "      <td>1.000000</td>\n",
       "      <td>1.000000</td>\n",
       "      <td>1.000000</td>\n",
       "      <td>1.000000</td>\n",
       "    </tr>\n",
       "    <tr>\n",
       "      <th>max</th>\n",
       "      <td>1.000000</td>\n",
       "      <td>1.000000</td>\n",
       "      <td>1.000000</td>\n",
       "      <td>1.00000</td>\n",
       "      <td>1.00000</td>\n",
       "      <td>1.000000</td>\n",
       "      <td>1.00000</td>\n",
       "      <td>1.000000</td>\n",
       "      <td>1.000000</td>\n",
       "      <td>1.000000</td>\n",
       "      <td>1.000000</td>\n",
       "      <td>1.000000</td>\n",
       "      <td>1.000000</td>\n",
       "      <td>1.000000</td>\n",
       "      <td>1.000000</td>\n",
       "    </tr>\n",
       "  </tbody>\n",
       "</table>\n",
       "</div>"
      ],
      "text/plain": [
       "            00001       00004       00005      00006      00007       00008  \\\n",
       "count  100.000000  100.000000  100.000000  100.00000  100.00000  100.000000   \n",
       "mean     0.325000    0.575000    0.535000    0.94500    0.54500    0.415000   \n",
       "std      0.462618    0.494286    0.498761    0.22355    0.49795    0.492648   \n",
       "min      0.000000    0.000000    0.000000    0.00000    0.00000    0.000000   \n",
       "25%      0.000000    0.000000    0.000000    1.00000    0.00000    0.000000   \n",
       "50%      0.000000    1.000000    1.000000    1.00000    1.00000    0.000000   \n",
       "75%      1.000000    1.000000    1.000000    1.00000    1.00000    1.000000   \n",
       "max      1.000000    1.000000    1.000000    1.00000    1.00000    1.000000   \n",
       "\n",
       "           00009       00010       00020       00026       00032       00038  \\\n",
       "count  100.00000  100.000000  100.000000  100.000000  100.000000  100.000000   \n",
       "mean     0.54500    0.985000    0.525000    0.545000    0.410000    0.480000   \n",
       "std      0.49795    0.111351    0.494286    0.487702    0.489176    0.497062   \n",
       "min      0.00000    0.000000    0.000000    0.000000    0.000000    0.000000   \n",
       "25%      0.00000    1.000000    0.000000    0.000000    0.000000    0.000000   \n",
       "50%      1.00000    1.000000    1.000000    1.000000    0.000000    0.000000   \n",
       "75%      1.00000    1.000000    1.000000    1.000000    1.000000    1.000000   \n",
       "max      1.00000    1.000000    1.000000    1.000000    1.000000    1.000000   \n",
       "\n",
       "            00039       00044       00047  \n",
       "count  100.000000  100.000000  100.000000  \n",
       "mean     0.510000    0.460000    0.370000  \n",
       "std      0.497367    0.495841    0.480004  \n",
       "min      0.000000    0.000000    0.000000  \n",
       "25%      0.000000    0.000000    0.000000  \n",
       "50%      0.750000    0.000000    0.000000  \n",
       "75%      1.000000    1.000000    1.000000  \n",
       "max      1.000000    1.000000    1.000000  "
      ]
     },
     "execution_count": 68,
     "metadata": {},
     "output_type": "execute_result"
    }
   ],
   "source": [
    "votes.describe()"
   ]
  },
  {
   "cell_type": "code",
   "execution_count": 69,
   "metadata": {
    "collapsed": false
   },
   "outputs": [
    {
     "name": "stdout",
     "output_type": "stream",
     "text": [
      "(100, 18)\n"
     ]
    }
   ],
   "source": [
    "print(votes.shape)"
   ]
  },
  {
   "cell_type": "code",
   "execution_count": 70,
   "metadata": {
    "collapsed": false
   },
   "outputs": [
    {
     "data": {
      "text/plain": [
       "1.0    803\n",
       "0.0    669\n",
       "0.5     28\n",
       "dtype: int64"
      ]
     },
     "execution_count": 70,
     "metadata": {},
     "output_type": "execute_result"
    }
   ],
   "source": [
    "pd.value_counts(votes.iloc[:,3:].values.ravel())"
   ]
  },
  {
   "cell_type": "code",
   "execution_count": 71,
   "metadata": {
    "collapsed": true
   },
   "outputs": [],
   "source": [
    "from sklearn.cluster import KMeans"
   ]
  },
  {
   "cell_type": "code",
   "execution_count": 72,
   "metadata": {
    "collapsed": false
   },
   "outputs": [],
   "source": [
    "kmeans_model = KMeans(n_clusters=2,random_state=1).fit(votes.iloc[:,3:])"
   ]
  },
  {
   "cell_type": "code",
   "execution_count": 73,
   "metadata": {
    "collapsed": true
   },
   "outputs": [],
   "source": [
    "labels = kmeans_model.labels_"
   ]
  },
  {
   "cell_type": "code",
   "execution_count": 74,
   "metadata": {
    "collapsed": false
   },
   "outputs": [
    {
     "data": {
      "text/html": [
       "<div>\n",
       "<table border=\"1\" class=\"dataframe\">\n",
       "  <thead>\n",
       "    <tr style=\"text-align: right;\">\n",
       "      <th>party</th>\n",
       "      <th>D</th>\n",
       "      <th>I</th>\n",
       "      <th>R</th>\n",
       "    </tr>\n",
       "    <tr>\n",
       "      <th>row_0</th>\n",
       "      <th></th>\n",
       "      <th></th>\n",
       "      <th></th>\n",
       "    </tr>\n",
       "  </thead>\n",
       "  <tbody>\n",
       "    <tr>\n",
       "      <th>0</th>\n",
       "      <td>41</td>\n",
       "      <td>2</td>\n",
       "      <td>0</td>\n",
       "    </tr>\n",
       "    <tr>\n",
       "      <th>1</th>\n",
       "      <td>3</td>\n",
       "      <td>0</td>\n",
       "      <td>54</td>\n",
       "    </tr>\n",
       "  </tbody>\n",
       "</table>\n",
       "</div>"
      ],
      "text/plain": [
       "party   D  I   R\n",
       "row_0           \n",
       "0      41  2   0\n",
       "1       3  0  54"
      ]
     },
     "execution_count": 74,
     "metadata": {},
     "output_type": "execute_result"
    }
   ],
   "source": [
    "pd.crosstab(labels,votes[\"party\"])"
   ]
  },
  {
   "cell_type": "code",
   "execution_count": 75,
   "metadata": {
    "collapsed": false
   },
   "outputs": [],
   "source": [
    "democratic_oddballs=votes[(labels==1) & (votes[\"party\"]==\"D\")]"
   ]
  },
  {
   "cell_type": "code",
   "execution_count": 76,
   "metadata": {
    "collapsed": false
   },
   "outputs": [
    {
     "data": {
      "text/html": [
       "<div>\n",
       "<table border=\"1\" class=\"dataframe\">\n",
       "  <thead>\n",
       "    <tr style=\"text-align: right;\">\n",
       "      <th></th>\n",
       "      <th>name</th>\n",
       "      <th>party</th>\n",
       "      <th>state</th>\n",
       "      <th>00001</th>\n",
       "      <th>00004</th>\n",
       "      <th>00005</th>\n",
       "      <th>00006</th>\n",
       "      <th>00007</th>\n",
       "      <th>00008</th>\n",
       "      <th>00009</th>\n",
       "      <th>00010</th>\n",
       "      <th>00020</th>\n",
       "      <th>00026</th>\n",
       "      <th>00032</th>\n",
       "      <th>00038</th>\n",
       "      <th>00039</th>\n",
       "      <th>00044</th>\n",
       "      <th>00047</th>\n",
       "    </tr>\n",
       "  </thead>\n",
       "  <tbody>\n",
       "    <tr>\n",
       "      <th>42</th>\n",
       "      <td>Heitkamp</td>\n",
       "      <td>D</td>\n",
       "      <td>ND</td>\n",
       "      <td>0.0</td>\n",
       "      <td>1.0</td>\n",
       "      <td>0.0</td>\n",
       "      <td>1.0</td>\n",
       "      <td>0.0</td>\n",
       "      <td>0.0</td>\n",
       "      <td>1.0</td>\n",
       "      <td>1.0</td>\n",
       "      <td>0.0</td>\n",
       "      <td>0.0</td>\n",
       "      <td>0.0</td>\n",
       "      <td>1.0</td>\n",
       "      <td>0.0</td>\n",
       "      <td>0.0</td>\n",
       "      <td>0.0</td>\n",
       "    </tr>\n",
       "    <tr>\n",
       "      <th>56</th>\n",
       "      <td>Manchin</td>\n",
       "      <td>D</td>\n",
       "      <td>WV</td>\n",
       "      <td>0.0</td>\n",
       "      <td>1.0</td>\n",
       "      <td>0.0</td>\n",
       "      <td>1.0</td>\n",
       "      <td>0.0</td>\n",
       "      <td>0.0</td>\n",
       "      <td>1.0</td>\n",
       "      <td>1.0</td>\n",
       "      <td>1.0</td>\n",
       "      <td>0.0</td>\n",
       "      <td>0.0</td>\n",
       "      <td>1.0</td>\n",
       "      <td>1.0</td>\n",
       "      <td>0.0</td>\n",
       "      <td>0.0</td>\n",
       "    </tr>\n",
       "    <tr>\n",
       "      <th>74</th>\n",
       "      <td>Reid</td>\n",
       "      <td>D</td>\n",
       "      <td>NV</td>\n",
       "      <td>0.5</td>\n",
       "      <td>0.5</td>\n",
       "      <td>0.5</td>\n",
       "      <td>0.5</td>\n",
       "      <td>0.5</td>\n",
       "      <td>0.5</td>\n",
       "      <td>0.5</td>\n",
       "      <td>0.5</td>\n",
       "      <td>0.5</td>\n",
       "      <td>0.5</td>\n",
       "      <td>0.5</td>\n",
       "      <td>0.5</td>\n",
       "      <td>0.5</td>\n",
       "      <td>0.5</td>\n",
       "      <td>0.5</td>\n",
       "    </tr>\n",
       "  </tbody>\n",
       "</table>\n",
       "</div>"
      ],
      "text/plain": [
       "        name party state  00001  00004  00005  00006  00007  00008  00009  \\\n",
       "42  Heitkamp     D    ND    0.0    1.0    0.0    1.0    0.0    0.0    1.0   \n",
       "56   Manchin     D    WV    0.0    1.0    0.0    1.0    0.0    0.0    1.0   \n",
       "74      Reid     D    NV    0.5    0.5    0.5    0.5    0.5    0.5    0.5   \n",
       "\n",
       "    00010  00020  00026  00032  00038  00039  00044  00047  \n",
       "42    1.0    0.0    0.0    0.0    1.0    0.0    0.0    0.0  \n",
       "56    1.0    1.0    0.0    0.0    1.0    1.0    0.0    0.0  \n",
       "74    0.5    0.5    0.5    0.5    0.5    0.5    0.5    0.5  "
      ]
     },
     "execution_count": 76,
     "metadata": {},
     "output_type": "execute_result"
    }
   ],
   "source": [
    "democratic_oddballs"
   ]
  },
  {
   "cell_type": "code",
   "execution_count": 77,
   "metadata": {
    "collapsed": false
   },
   "outputs": [
    {
     "data": {
      "text/plain": [
       "42    Heitkamp\n",
       "56     Manchin\n",
       "74        Reid\n",
       "Name: name, dtype: object"
      ]
     },
     "execution_count": 77,
     "metadata": {},
     "output_type": "execute_result"
    }
   ],
   "source": [
    "democratic_oddballs[\"name\"]"
   ]
  },
  {
   "cell_type": "code",
   "execution_count": 78,
   "metadata": {
    "collapsed": true
   },
   "outputs": [],
   "source": [
    "import matplotlib.pyplot as plt\n",
    "from sklearn.decomposition import PCA"
   ]
  },
  {
   "cell_type": "code",
   "execution_count": 80,
   "metadata": {
    "collapsed": true
   },
   "outputs": [],
   "source": [
    "pca_2 = PCA(2)"
   ]
  },
  {
   "cell_type": "code",
   "execution_count": 81,
   "metadata": {
    "collapsed": false
   },
   "outputs": [
    {
     "data": {
      "text/plain": [
       "PCA(copy=True, iterated_power='auto', n_components=2, random_state=None,\n",
       "  svd_solver='auto', tol=0.0, whiten=False)"
      ]
     },
     "execution_count": 81,
     "metadata": {},
     "output_type": "execute_result"
    }
   ],
   "source": [
    "pca_2"
   ]
  },
  {
   "cell_type": "code",
   "execution_count": 82,
   "metadata": {
    "collapsed": false
   },
   "outputs": [
    {
     "data": {
      "text/plain": [
       "array([[-1.01404771,  0.34503681],\n",
       "       [-0.16486993,  0.88502064],\n",
       "       [ 2.01879354, -0.25098295],\n",
       "       [-1.57876445, -0.07429597],\n",
       "       [ 1.26163015,  1.07112203],\n",
       "       [ 2.01879354, -0.25098295],\n",
       "       [-1.57876445, -0.07429597],\n",
       "       [ 2.01879354, -0.25098295],\n",
       "       [-1.57876445, -0.07429597],\n",
       "       [ 1.90485799,  0.01786626],\n",
       "       [ 2.01879354, -0.25098295],\n",
       "       [-1.29152845,  0.082353  ],\n",
       "       [ 2.01879354, -0.25098295],\n",
       "       [-1.4648289 , -0.34314518],\n",
       "       [ 2.01879354, -0.25098295],\n",
       "       [ 1.51985015,  0.65615414],\n",
       "       [ 1.50838873,  0.12813341],\n",
       "       [-1.57876445, -0.07429597],\n",
       "       [-1.57876445, -0.07429597],\n",
       "       [-1.57876445, -0.07429597],\n",
       "       [-0.16486993,  0.88502064],\n",
       "       [ 1.87868577, -0.3431932 ],\n",
       "       [-1.57876445, -0.07429597],\n",
       "       [-1.57876445, -0.07429597],\n",
       "       [-1.57876445, -0.07429597],\n",
       "       [-1.57876445, -0.07429597],\n",
       "       [-1.60708758, -0.10292893],\n",
       "       [-1.57876445, -0.07429597],\n",
       "       [ 0.98082217,  0.9803604 ],\n",
       "       [ 2.01879354, -0.25098295],\n",
       "       [-1.57876445, -0.07429597],\n",
       "       [-1.57876445, -0.07429597],\n",
       "       [ 2.01879354, -0.25098295],\n",
       "       [-1.57876445, -0.07429597],\n",
       "       [-1.57876445, -0.07429597],\n",
       "       [ 1.87868577, -0.3431932 ],\n",
       "       [-1.29658142,  0.18645475],\n",
       "       [ 2.01879354, -0.25098295],\n",
       "       [-1.29488522,  0.13682683],\n",
       "       [-1.57876445, -0.07429597],\n",
       "       [-1.57876445, -0.07429597],\n",
       "       [ 1.79092245,  0.28671547],\n",
       "       [ 0.13957598,  1.18824185],\n",
       "       [-1.30627482, -0.04434678],\n",
       "       [ 2.01879354, -0.25098295],\n",
       "       [-1.57876445, -0.07429597],\n",
       "       [-1.57876445, -0.07429597],\n",
       "       [-1.57876445, -0.07429597],\n",
       "       [-1.57876445, -0.07429597],\n",
       "       [ 1.76057354,  0.16398494],\n",
       "       [ 1.79092245,  0.28671547],\n",
       "       [-0.75581188, -0.72241168],\n",
       "       [ 1.53270244,  0.70168336],\n",
       "       [-1.60708758, -0.10292893],\n",
       "       [ 2.01879354, -0.25098295],\n",
       "       [-1.32320836,  0.10819388],\n",
       "       [-0.43014994,  0.68966604],\n",
       "       [ 2.01879354, -0.25098295],\n",
       "       [-1.57876445, -0.07429597],\n",
       "       [ 0.98223951,  1.37974826],\n",
       "       [-1.57876445, -0.07429597],\n",
       "       [ 2.01879354, -0.25098295],\n",
       "       [ 2.01879354, -0.25098295],\n",
       "       [ 2.01879354, -0.25098295],\n",
       "       [-1.57876445, -0.07429597],\n",
       "       [-1.57876445, -0.07429597],\n",
       "       [ 2.01879354, -0.25098295],\n",
       "       [ 2.01879354, -0.25098295],\n",
       "       [ 1.74630391, -0.28093214],\n",
       "       [-1.60708758, -0.10292893],\n",
       "       [-1.57876445, -0.07429597],\n",
       "       [ 1.79092245,  0.28671547],\n",
       "       [-1.57876445, -0.07429597],\n",
       "       [ 2.01879354, -0.25098295],\n",
       "       [ 0.20310823, -0.18343903],\n",
       "       [-1.57876445, -0.07429597],\n",
       "       [-1.57876445, -0.07429597],\n",
       "       [-1.57876445, -0.07429597],\n",
       "       [-0.89220934, -0.18504452],\n",
       "       [ 2.01879354, -0.25098295],\n",
       "       [-1.60708758, -0.10292893],\n",
       "       [ 2.01879354, -0.25098295],\n",
       "       [ 2.01879354, -0.25098295],\n",
       "       [-1.57876445, -0.07429597],\n",
       "       [-1.57876445, -0.07429597],\n",
       "       [ 2.01879354, -0.25098295],\n",
       "       [-1.57876445, -0.07429597],\n",
       "       [ 1.79092245,  0.28671547],\n",
       "       [-1.57876445, -0.07429597],\n",
       "       [ 0.98223951,  1.37974826],\n",
       "       [-1.57876445, -0.07429597],\n",
       "       [-1.57876445, -0.07429597],\n",
       "       [-1.57876445, -0.07429597],\n",
       "       [ 2.01879354, -0.25098295],\n",
       "       [-1.57876445, -0.07429597],\n",
       "       [ 1.47293336,  0.16100978],\n",
       "       [ 2.01879354, -0.25098295],\n",
       "       [ 2.01879354, -0.25098295],\n",
       "       [-1.58425395, -0.08726216],\n",
       "       [ 2.01879354, -0.25098295]])"
      ]
     },
     "execution_count": 82,
     "metadata": {},
     "output_type": "execute_result"
    }
   ],
   "source": [
    "plot_columns = pca_2.fit_transform(votes.iloc[:,3:18])\n",
    "plot_columns"
   ]
  },
  {
   "cell_type": "code",
   "execution_count": 83,
   "metadata": {
    "collapsed": false
   },
   "outputs": [
    {
     "data": {
      "image/png": "[encoded data removed]",
      "text/plain": [
       "<matplotlib.figure.Figure at 0x7f38b94395f8>"
      ]
     },
     "metadata": {},
     "output_type": "display_data"
    }
   ],
   "source": [
    "plt.scatter(x=plot_columns[:,0],y=plot_columns[:,1],c=labels)\n",
    "plt.show()"
   ]
  },
  {
   "cell_type": "code",
   "execution_count": 84,
   "metadata": {
    "collapsed": true
   },
   "outputs": [],
   "source": [
    "kmeans_model = KMeans(n_clusters=5, random_state=1).fit(votes.iloc[:, 3:])\n",
    "labels = kmeans_model.labels_"
   ]
  },
  {
   "cell_type": "code",
   "execution_count": 85,
   "metadata": {
    "collapsed": false
   },
   "outputs": [
    {
     "name": "stdout",
     "output_type": "stream",
     "text": [
      "party   D  I   R\n",
      "row_0           \n",
      "0       6  0   0\n",
      "1       0  0  52\n",
      "2      31  1   0\n",
      "3       0  0   2\n",
      "4       7  1   0\n"
     ]
    }
   ],
   "source": [
    "print(pd.crosstab(labels, votes[\"party\"]))"
   ]
  },
  {
   "cell_type": "code",
   "execution_count": 86,
   "metadata": {
    "collapsed": true
   },
   "outputs": [],
   "source": [
    "pca_5 = PCA(5)"
   ]
  },
  {
   "cell_type": "code",
   "execution_count": 87,
   "metadata": {
    "collapsed": false
   },
   "outputs": [
    {
     "data": {
      "text/plain": [
       "array([[ -1.01404771e+00,   3.45036811e-01,   6.27403677e-01,\n",
       "         -4.63296092e-01,  -8.25755602e-02],\n",
       "       [ -1.64869935e-01,   8.85020645e-01,   1.29313929e+00,\n",
       "         -2.93833976e-01,   9.36746390e-02],\n",
       "       [  2.01879354e+00,  -2.50982950e-01,   2.17726787e-05,\n",
       "         -9.10496365e-02,  -7.62626606e-03],\n",
       "       [ -1.57876445e+00,  -7.42959709e-02,  -2.04937216e-02,\n",
       "          1.18304149e-02,  -1.00874573e-01],\n",
       "       [  1.26163015e+00,   1.07112203e+00,   5.94668426e-02,\n",
       "          2.25152346e-01,   4.19247013e-02],\n",
       "       [  2.01879354e+00,  -2.50982950e-01,   2.17726787e-05,\n",
       "         -9.10496365e-02,  -7.62626606e-03],\n",
       "       [ -1.57876445e+00,  -7.42959709e-02,  -2.04937216e-02,\n",
       "          1.18304149e-02,  -1.00874573e-01],\n",
       "       [  2.01879354e+00,  -2.50982950e-01,   2.17726787e-05,\n",
       "         -9.10496365e-02,  -7.62626606e-03],\n",
       "       [ -1.57876445e+00,  -7.42959709e-02,  -2.04937216e-02,\n",
       "          1.18304149e-02,  -1.00874573e-01],\n",
       "       [  1.90485799e+00,   1.78662621e-02,  -1.99378019e-03,\n",
       "          2.67055570e-01,   2.35026637e-02],\n",
       "       [  2.01879354e+00,  -2.50982950e-01,   2.17726787e-05,\n",
       "         -9.10496365e-02,  -7.62626606e-03],\n",
       "       [ -1.29152845e+00,   8.23530031e-02,  -4.24588650e-01,\n",
       "          2.07713148e-02,  -2.02592563e-01],\n",
       "       [  2.01879354e+00,  -2.50982950e-01,   2.17726787e-05,\n",
       "         -9.10496365e-02,  -7.62626606e-03],\n",
       "       [ -1.46482890e+00,  -3.43145182e-01,  -1.84781688e-02,\n",
       "         -3.46274791e-01,  -1.32003502e-01],\n",
       "       [  2.01879354e+00,  -2.50982950e-01,   2.17726787e-05,\n",
       "         -9.10496365e-02,  -7.62626606e-03],\n",
       "       [  1.51985015e+00,   6.56154143e-01,   1.10263483e-02,\n",
       "          4.47991244e-01,   7.91619129e-02],\n",
       "       [  1.50838873e+00,   1.28133413e-01,  -3.74325816e-01,\n",
       "          9.10433497e-01,   1.61024035e-02],\n",
       "       [ -1.57876445e+00,  -7.42959709e-02,  -2.04937216e-02,\n",
       "          1.18304149e-02,  -1.00874573e-01],\n",
       "       [ -1.57876445e+00,  -7.42959709e-02,  -2.04937216e-02,\n",
       "          1.18304149e-02,  -1.00874573e-01],\n",
       "       [ -1.57876445e+00,  -7.42959709e-02,  -2.04937216e-02,\n",
       "          1.18304149e-02,  -1.00874573e-01],\n",
       "       [ -1.64869935e-01,   8.85020645e-01,   1.29313929e+00,\n",
       "         -2.93833976e-01,   9.36746390e-02],\n",
       "       [  1.87868577e+00,  -3.43193204e-01,   2.01867381e-01,\n",
       "         -9.55513899e-02,  -3.03420087e-02],\n",
       "       [ -1.57876445e+00,  -7.42959709e-02,  -2.04937216e-02,\n",
       "          1.18304149e-02,  -1.00874573e-01],\n",
       "       [ -1.57876445e+00,  -7.42959709e-02,  -2.04937216e-02,\n",
       "          1.18304149e-02,  -1.00874573e-01],\n",
       "       [ -1.57876445e+00,  -7.42959709e-02,  -2.04937216e-02,\n",
       "          1.18304149e-02,  -1.00874573e-01],\n",
       "       [ -1.57876445e+00,  -7.42959709e-02,  -2.04937216e-02,\n",
       "          1.18304149e-02,  -1.00874573e-01],\n",
       "       [ -1.60708758e+00,  -1.02928925e-01,  -1.25418161e-01,\n",
       "         -6.08757253e-02,   8.73703768e-01],\n",
       "       [ -1.57876445e+00,  -7.42959709e-02,  -2.04937216e-02,\n",
       "          1.18304149e-02,  -1.00874573e-01],\n",
       "       [  9.80822172e-01,   9.80360397e-01,  -5.40681032e-01,\n",
       "         -2.86395838e-01,  -8.54820452e-02],\n",
       "       [  2.01879354e+00,  -2.50982950e-01,   2.17726787e-05,\n",
       "         -9.10496365e-02,  -7.62626606e-03],\n",
       "       [ -1.57876445e+00,  -7.42959709e-02,  -2.04937216e-02,\n",
       "          1.18304149e-02,  -1.00874573e-01],\n",
       "       [ -1.57876445e+00,  -7.42959709e-02,  -2.04937216e-02,\n",
       "          1.18304149e-02,  -1.00874573e-01],\n",
       "       [  2.01879354e+00,  -2.50982950e-01,   2.17726787e-05,\n",
       "         -9.10496365e-02,  -7.62626606e-03],\n",
       "       [ -1.57876445e+00,  -7.42959709e-02,  -2.04937216e-02,\n",
       "          1.18304149e-02,  -1.00874573e-01],\n",
       "       [ -1.57876445e+00,  -7.42959709e-02,  -2.04937216e-02,\n",
       "          1.18304149e-02,  -1.00874573e-01],\n",
       "       [  1.87868577e+00,  -3.43193204e-01,   2.01867381e-01,\n",
       "         -9.55513899e-02,  -3.03420087e-02],\n",
       "       [ -1.29658142e+00,   1.86454749e-01,   2.57087194e-01,\n",
       "         -1.78023370e-01,  -1.21104750e-01],\n",
       "       [  2.01879354e+00,  -2.50982950e-01,   2.17726787e-05,\n",
       "         -9.10496365e-02,  -7.62626606e-03],\n",
       "       [ -1.29488522e+00,   1.36826832e-01,  -1.67153577e-01,\n",
       "         -3.80878652e-02,  -1.35206156e-02],\n",
       "       [ -1.57876445e+00,  -7.42959709e-02,  -2.04937216e-02,\n",
       "          1.18304149e-02,  -1.00874573e-01],\n",
       "       [ -1.57876445e+00,  -7.42959709e-02,  -2.04937216e-02,\n",
       "          1.18304149e-02,  -1.00874573e-01],\n",
       "       [  1.79092245e+00,   2.86715474e-01,  -4.00933306e-03,\n",
       "          6.25160776e-01,   5.46315934e-02],\n",
       "       [  1.39575979e-01,   1.18824185e+00,  -7.78232681e-01,\n",
       "         -3.43557755e-01,  -1.36621945e-01],\n",
       "       [ -1.30627482e+00,  -4.43467803e-02,   5.23877184e-01,\n",
       "          3.69877735e-01,  -2.49279221e-02],\n",
       "       [  2.01879354e+00,  -2.50982950e-01,   2.17726787e-05,\n",
       "         -9.10496365e-02,  -7.62626606e-03],\n",
       "       [ -1.57876445e+00,  -7.42959709e-02,  -2.04937216e-02,\n",
       "          1.18304149e-02,  -1.00874573e-01],\n",
       "       [ -1.57876445e+00,  -7.42959709e-02,  -2.04937216e-02,\n",
       "          1.18304149e-02,  -1.00874573e-01],\n",
       "       [ -1.57876445e+00,  -7.42959709e-02,  -2.04937216e-02,\n",
       "          1.18304149e-02,  -1.00874573e-01],\n",
       "       [ -1.57876445e+00,  -7.42959709e-02,  -2.04937216e-02,\n",
       "          1.18304149e-02,  -1.00874573e-01],\n",
       "       [  1.76057354e+00,   1.63984937e-01,   4.84622670e-02,\n",
       "         -3.13888535e-01,  -4.48634776e-02],\n",
       "       [  1.79092245e+00,   2.86715474e-01,  -4.00933306e-03,\n",
       "          6.25160776e-01,   5.46315934e-02],\n",
       "       [ -7.55811881e-01,  -7.22411676e-01,   5.49582790e-01,\n",
       "          8.77717662e-01,  -2.25284651e-02],\n",
       "       [  1.53270244e+00,   7.01683361e-01,   4.44311612e-02,\n",
       "          4.02321877e-01,   1.73943819e-02],\n",
       "       [ -1.60708758e+00,  -1.02928925e-01,  -1.25418161e-01,\n",
       "         -6.08757253e-02,   8.73703768e-01],\n",
       "       [  2.01879354e+00,  -2.50982950e-01,   2.17726787e-05,\n",
       "         -9.10496365e-02,  -7.62626606e-03],\n",
       "       [ -1.32320836e+00,   1.08193877e-01,  -2.72078017e-01,\n",
       "         -1.10794005e-01,   9.61057725e-01],\n",
       "       [ -4.30149936e-01,   6.89666035e-01,  -1.16618510e+00,\n",
       "         -4.48639027e-02,  -2.45668197e-01],\n",
       "       [  2.01879354e+00,  -2.50982950e-01,   2.17726787e-05,\n",
       "         -9.10496365e-02,  -7.62626606e-03],\n",
       "       [ -1.57876445e+00,  -7.42959709e-02,  -2.04937216e-02,\n",
       "          1.18304149e-02,  -1.00874573e-01],\n",
       "       [  9.82239507e-01,   1.37974826e+00,   1.87255548e-02,\n",
       "         -1.05518050e-01,   1.49949249e-02],\n",
       "       [ -1.57876445e+00,  -7.42959709e-02,  -2.04937216e-02,\n",
       "          1.18304149e-02,  -1.00874573e-01],\n",
       "       [  2.01879354e+00,  -2.50982950e-01,   2.17726787e-05,\n",
       "         -9.10496365e-02,  -7.62626606e-03],\n",
       "       [  2.01879354e+00,  -2.50982950e-01,   2.17726787e-05,\n",
       "         -9.10496365e-02,  -7.62626606e-03],\n",
       "       [  2.01879354e+00,  -2.50982950e-01,   2.17726787e-05,\n",
       "         -9.10496365e-02,  -7.62626606e-03],\n",
       "       [ -1.57876445e+00,  -7.42959709e-02,  -2.04937216e-02,\n",
       "          1.18304149e-02,  -1.00874573e-01],\n",
       "       [ -1.57876445e+00,  -7.42959709e-02,  -2.04937216e-02,\n",
       "          1.18304149e-02,  -1.00874573e-01],\n",
       "       [  2.01879354e+00,  -2.50982950e-01,   2.17726787e-05,\n",
       "         -9.10496365e-02,  -7.62626606e-03],\n",
       "       [  2.01879354e+00,  -2.50982950e-01,   2.17726787e-05,\n",
       "         -9.10496365e-02,  -7.62626606e-03],\n",
       "       [  1.74630391e+00,  -2.80932140e-01,  -5.44349133e-01,\n",
       "         -4.49096956e-01,  -8.35729167e-02],\n",
       "       [ -1.60708758e+00,  -1.02928925e-01,  -1.25418161e-01,\n",
       "         -6.08757253e-02,   8.73703768e-01],\n",
       "       [ -1.57876445e+00,  -7.42959709e-02,  -2.04937216e-02,\n",
       "          1.18304149e-02,  -1.00874573e-01],\n",
       "       [  1.79092245e+00,   2.86715474e-01,  -4.00933306e-03,\n",
       "          6.25160776e-01,   5.46315934e-02],\n",
       "       [ -1.57876445e+00,  -7.42959709e-02,  -2.04937216e-02,\n",
       "          1.18304149e-02,  -1.00874573e-01],\n",
       "       [  2.01879354e+00,  -2.50982950e-01,   2.17726787e-05,\n",
       "         -9.10496365e-02,  -7.62626606e-03],\n",
       "       [  2.03108230e-01,  -1.83439032e-01,  -6.67218130e-02,\n",
       "         -7.91005614e-02,   4.49314736e-01],\n",
       "       [ -1.57876445e+00,  -7.42959709e-02,  -2.04937216e-02,\n",
       "          1.18304149e-02,  -1.00874573e-01],\n",
       "       [ -1.57876445e+00,  -7.42959709e-02,  -2.04937216e-02,\n",
       "          1.18304149e-02,  -1.00874573e-01],\n",
       "       [ -1.57876445e+00,  -7.42959709e-02,  -2.04937216e-02,\n",
       "          1.18304149e-02,  -1.00874573e-01],\n",
       "       [ -8.92209344e-01,  -1.85044519e-01,   3.64240703e-01,\n",
       "          2.56058829e-01,  -8.11493302e-02],\n",
       "       [  2.01879354e+00,  -2.50982950e-01,   2.17726787e-05,\n",
       "         -9.10496365e-02,  -7.62626606e-03],\n",
       "       [ -1.60708758e+00,  -1.02928925e-01,  -1.25418161e-01,\n",
       "         -6.08757253e-02,   8.73703768e-01],\n",
       "       [  2.01879354e+00,  -2.50982950e-01,   2.17726787e-05,\n",
       "         -9.10496365e-02,  -7.62626606e-03],\n",
       "       [  2.01879354e+00,  -2.50982950e-01,   2.17726787e-05,\n",
       "         -9.10496365e-02,  -7.62626606e-03],\n",
       "       [ -1.57876445e+00,  -7.42959709e-02,  -2.04937216e-02,\n",
       "          1.18304149e-02,  -1.00874573e-01],\n",
       "       [ -1.57876445e+00,  -7.42959709e-02,  -2.04937216e-02,\n",
       "          1.18304149e-02,  -1.00874573e-01],\n",
       "       [  2.01879354e+00,  -2.50982950e-01,   2.17726787e-05,\n",
       "         -9.10496365e-02,  -7.62626606e-03],\n",
       "       [ -1.57876445e+00,  -7.42959709e-02,  -2.04937216e-02,\n",
       "          1.18304149e-02,  -1.00874573e-01],\n",
       "       [  1.79092245e+00,   2.86715474e-01,  -4.00933306e-03,\n",
       "          6.25160776e-01,   5.46315934e-02],\n",
       "       [ -1.57876445e+00,  -7.42959709e-02,  -2.04937216e-02,\n",
       "          1.18304149e-02,  -1.00874573e-01],\n",
       "       [  9.82239507e-01,   1.37974826e+00,   1.87255548e-02,\n",
       "         -1.05518050e-01,   1.49949249e-02],\n",
       "       [ -1.57876445e+00,  -7.42959709e-02,  -2.04937216e-02,\n",
       "          1.18304149e-02,  -1.00874573e-01],\n",
       "       [ -1.57876445e+00,  -7.42959709e-02,  -2.04937216e-02,\n",
       "          1.18304149e-02,  -1.00874573e-01],\n",
       "       [ -1.57876445e+00,  -7.42959709e-02,  -2.04937216e-02,\n",
       "          1.18304149e-02,  -1.00874573e-01],\n",
       "       [  2.01879354e+00,  -2.50982950e-01,   2.17726787e-05,\n",
       "         -9.10496365e-02,  -7.62626606e-03],\n",
       "       [ -1.57876445e+00,  -7.42959709e-02,  -2.04937216e-02,\n",
       "          1.18304149e-02,  -1.00874573e-01],\n",
       "       [  1.47293336e+00,   1.61009783e-01,   1.66191419e-01,\n",
       "         -4.79153642e-01,  -8.20045073e-02],\n",
       "       [  2.01879354e+00,  -2.50982950e-01,   2.17726787e-05,\n",
       "         -9.10496365e-02,  -7.62626606e-03],\n",
       "       [  2.01879354e+00,  -2.50982950e-01,   2.17726787e-05,\n",
       "         -9.10496365e-02,  -7.62626606e-03],\n",
       "       [ -1.58425395e+00,  -8.72621606e-02,  -2.85409593e-02,\n",
       "          5.55465395e-03,  -6.83226031e-02],\n",
       "       [  2.01879354e+00,  -2.50982950e-01,   2.17726787e-05,\n",
       "         -9.10496365e-02,  -7.62626606e-03]])"
      ]
     },
     "execution_count": 87,
     "metadata": {},
     "output_type": "execute_result"
    }
   ],
   "source": [
    "plot_columns = pca_5.fit_transform(votes.iloc[:,3:18])\n",
    "plot_columns"
   ]
  },
  {
   "cell_type": "code",
   "execution_count": 89,
   "metadata": {
    "collapsed": false
   },
   "outputs": [
    {
     "data": {
      "image/png": "[encoded data removed]",
      "text/plain": [
       "<matplotlib.figure.Figure at 0x7f38b9558ef0>"
      ]
     },
     "metadata": {},
     "output_type": "display_data"
    }
   ],
   "source": [
    "plt.scatter(x=plot_columns[:,3],y=plot_columns[:,4],c=labels)\n",
    "plt.show()"
   ]
  }
 ],
 "metadata": {
  "anaconda-cloud": {},
  "kernelspec": {
   "display_name": "Python [default]",
   "language": "python",
   "name": "python3"
  },
  "language_info": {
   "codemirror_mode": {
    "name": "ipython",
    "version": 3
   },
   "file_extension": ".py",
   "mimetype": "text/x-python",
   "name": "python",
   "nbconvert_exporter": "python",
   "pygments_lexer": "ipython3",
   "version": "3.5.2"
  }
 },
 "nbformat": 4,
 "nbformat_minor": 1
}
