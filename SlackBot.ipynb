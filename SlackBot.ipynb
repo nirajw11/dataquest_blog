{
 "cells": [
  {
   "cell_type": "code",
   "execution_count": 4,
   "metadata": {
    "collapsed": false
   },
   "outputs": [],
   "source": [
    "from craigslist import CraigsListHousing"
   ]
  },
  {
   "cell_type": "code",
   "execution_count": 5,
   "metadata": {
    "collapsed": true
   },
   "outputs": [],
   "source": [
    "cl = CraigslistHousing(site='sfbay',area='sfc',category='apa',filters={'max_price':2000,'min_price':1000})"
   ]
  },
  {
   "cell_type": "code",
   "execution_count": 6,
   "metadata": {
    "collapsed": false
   },
   "outputs": [
    {
     "name": "stdout",
     "output_type": "stream",
     "text": [
      "{'price': '$1140', 'id': '6152670768', 'where': 'Rent With Option To Buy', 'url': 'http://sfbay.craigslist.org/sfc/apa/6152670768.html', 'datetime': '2017-05-29 09:21', 'has_map': True, 'has_image': True, 'geotag': None, 'name': 'Super Value New Carpet Fresh new Flooring'}\n",
      "{'price': '$1170', 'id': '6115726845', 'where': 'GOOD/BAD CREDIT IS OK', 'url': 'http://sfbay.craigslist.org/sfc/apa/6115726845.html', 'datetime': '2017-05-29 09:04', 'has_map': True, 'has_image': True, 'geotag': None, 'name': 'Luxury Good Closet Space Fresh Flooring'}\n",
      "{'price': '$1140', 'id': '6152641318', 'where': 'Owner Financing', 'url': 'http://sfbay.craigslist.org/sfc/apa/6152641318.html', 'datetime': '2017-05-29 09:02', 'has_map': True, 'has_image': True, 'geotag': None, 'name': 'Very Large and Spacious Living Room Fresh Paint'}\n",
      "{'price': '$2000', 'id': '6152751801', 'where': 'ingleside / SFSU / CCSF', 'url': 'http://sfbay.craigslist.org/sfc/apa/6152751801.html', 'datetime': '2017-05-29 08:48', 'has_map': True, 'has_image': True, 'geotag': (37.724599, -122.458248), 'name': 'Ingleside ~ Bright In-Law Studio'}\n",
      "{'price': '$1165', 'id': '6152592167', 'where': 'Lease 2 Buy', 'url': 'http://sfbay.craigslist.org/sfc/apa/6152592167.html', 'datetime': '2017-05-29 08:33', 'has_map': True, 'has_image': True, 'geotag': None, 'name': 'Natural beauty Loads Of Natural Light Fresh Carpet'}\n",
      "{'price': '$1165', 'id': '6152556940', 'where': 'LEASE W/ OPTION TO BUY', 'url': 'http://sfbay.craigslist.org/sfc/apa/6152556940.html', 'datetime': '2017-05-29 08:30', 'has_map': True, 'has_image': True, 'geotag': None, 'name': 'Look no further Art Niches Fresh Flooring'}\n",
      "{'price': '$1530', 'id': '6152686696', 'where': 'glen park', 'url': 'http://sfbay.craigslist.org/sfc/apa/6152686696.html', 'datetime': '2017-05-29 08:29', 'has_map': True, 'has_image': True, 'geotag': (37.731605, -122.444302), 'name': 'Bright & Spacious One Bedroom Home For Rent'}\n",
      "{'price': '$1165', 'id': '6152586052', 'where': 'Lease W/ Option To Buy', 'url': 'http://sfbay.craigslist.org/sfc/apa/6152586052.html', 'datetime': '2017-05-29 08:19', 'has_map': True, 'has_image': True, 'geotag': None, 'name': 'Hard To Find 3 Large Closets New Carpet'}\n",
      "{'price': '$1800', 'id': '6152700716', 'where': 'lower nob hill', 'url': 'http://sfbay.craigslist.org/sfc/apa/6152700716.html', 'datetime': '2017-05-29 08:16', 'has_map': True, 'has_image': True, 'geotag': (37.78932, -122.415372), 'name': 'EXCELLENT AREA. CLASSIC & COZY STUDIO. HRWD FLR'}\n",
      "{'price': '$1165', 'id': '6152562751', 'where': 'RENT 2 BUY', 'url': 'http://sfbay.craigslist.org/sfc/apa/6152562751.html', 'datetime': '2017-05-29 08:15', 'has_map': True, 'has_image': True, 'geotag': None, 'name': 'Completely Remodeled Kitchen Fresh new Carpet'}\n",
      "{'price': '$1795', 'id': '6149768574', 'where': 'downtown / civic / van ness', 'url': 'http://sfbay.craigslist.org/sfc/apa/6149768574.html', 'datetime': '2017-05-29 07:41', 'has_map': True, 'has_image': True, 'geotag': (37.782585, -122.415694), 'name': 'Build Your EMPIRE at 270 Turk. BIG Studio Ready NOW.'}\n",
      "{'price': '$1100', 'id': '6146845685', 'where': 'richmond / seacliff', 'url': 'http://sfbay.craigslist.org/sfc/apa/6146845685.html', 'datetime': '2017-05-29 07:16', 'has_map': True, 'has_image': True, 'geotag': (37.781775, -122.490231), 'name': 'Junior in-law studio - Available now'}\n",
      "{'price': '$1500', 'id': '6152597033', 'where': 'cole valley / ashbury hts', 'url': 'http://sfbay.craigslist.org/sfc/apa/6152597033.html', 'datetime': '2017-05-29 07:05', 'has_map': True, 'has_image': True, 'geotag': (37.7712, -122.4413), 'name': 'Furnished Efficiency Unit - No Kitchen  ~ J.Wavro'}\n",
      "{'price': '$1950', 'id': '6152592691', 'where': 'mission district', 'url': 'http://sfbay.craigslist.org/sfc/apa/6152592691.html', 'datetime': '2017-05-29 07:02', 'has_map': True, 'has_image': True, 'geotag': (37.768274, -122.419982), 'name': 'Micro Studios - Utilities incl., courtyard, gym, lounge ~ J.Wavro'}\n",
      "{'price': '$1800', 'id': '6152517485', 'where': 'bayview', 'url': 'http://sfbay.craigslist.org/sfc/apa/6152517485.html', 'datetime': '2017-05-29 06:38', 'has_map': True, 'has_image': False, 'geotag': (37.733492, -122.37849), 'name': 'nice two bedroom Apartment'}\n",
      "{'price': '$1310', 'id': '6152519726', 'where': 'castro / upper market', 'url': 'http://sfbay.craigslist.org/sfc/apa/6152519726.html', 'datetime': '2017-05-29 06:09', 'has_map': True, 'has_image': True, 'geotag': (37.7587, -122.433), 'name': 'Single bedroom in a large apartment'}\n",
      "{'price': '$2000', 'id': '6152499707', 'where': 'downtown / civic / van ness', 'url': 'http://sfbay.craigslist.org/sfc/apa/6152499707.html', 'datetime': '2017-05-29 05:44', 'has_map': True, 'has_image': True, 'geotag': (37.7813, -122.4167), 'name': 'bright 1BD/1BA condo on the 7th floor of a 50 unit building'}\n",
      "{'price': '$2000', 'id': '6152487549', 'where': 'SOMA / south beach', 'url': 'http://sfbay.craigslist.org/sfc/apa/6152487549.html', 'datetime': '2017-05-29 05:17', 'has_map': True, 'has_image': True, 'geotag': (37.783785, -122.39893), 'name': 'TRENDY 1-BR/1-BA MUSEUM PARC CONDO IN SOMA'}\n",
      "{'price': '$2000', 'id': '6152467658', 'where': 'downtown / civic / van ness', 'url': 'http://sfbay.craigslist.org/sfc/apa/6152467658.html', 'datetime': '2017-05-29 04:58', 'has_map': True, 'has_image': True, 'geotag': (37.763572, -122.417332), 'name': 'Enjoy delightful downtown skyline views from your private balcony'}\n",
      "{'price': '$1300', 'id': '6152358007', 'where': 'mission district', 'url': 'http://sfbay.craigslist.org/sfc/apa/6152358007.html', 'datetime': '2017-05-29 00:09', 'has_map': True, 'has_image': True, 'geotag': (37.7509, -122.4153), 'name': 'Gorgeous Apartment Near Public Transit'}\n"
     ]
    }
   ],
   "source": [
    "results=cl.get_results(sort_by=\"newest\",geotagged=True,limit=20)\n",
    "\n",
    "for result in results:\n",
    "    print(result)"
   ]
  },
  {
   "cell_type": "code",
   "execution_count": 7,
   "metadata": {
    "collapsed": true
   },
   "outputs": [],
   "source": [
    "BOXES={\n",
    "    \"adams_point\":[\n",
    "        [37.80789, -122.25000],\n",
    "        [37.81589,\t-122.26081],\n",
    "    ],\n",
    "    \"piedmont\": [\n",
    "        [37.82240, -122.24768],\n",
    "        [37.83237, -122.25386],\n",
    "    ]\n",
    "}"
   ]
  },
  {
   "cell_type": "code",
   "execution_count": 10,
   "metadata": {
    "collapsed": false
   },
   "outputs": [],
   "source": [
    "def in_box(coords,box):\n",
    "    if box[0][0] < coords[0] < box[1][0] and box[1][1] < coords[1] < box[0][1]:\n",
    "        return True\n",
    "    return False\n",
    "\n",
    "geotag=result['geotag']\n",
    "area_found =False\n",
    "a=\"\"\n",
    "\n",
    "for a,coords in BOXES.items():\n",
    "    if in_box(geotag,coords):\n",
    "        area = a\n",
    "        area_found=True\n",
    "        \n",
    "        \n",
    "    "
   ]
  },
  {
   "cell_type": "code",
   "execution_count": 11,
   "metadata": {
    "collapsed": true
   },
   "outputs": [],
   "source": [
    "NEIGHBORHOODS = [\"berkeley north\", \"berkeley\", \"rockridge\", \"adams point\"]"
   ]
  },
  {
   "cell_type": "code",
   "execution_count": 12,
   "metadata": {
    "collapsed": true
   },
   "outputs": [],
   "source": [
    "location = result['where']\n",
    "for hood in NEIGHBORHOODS:\n",
    "    if hood in location.lower():\n",
    "        area = hood\n",
    "        \n",
    "        "
   ]
  },
  {
   "cell_type": "code",
   "execution_count": 13,
   "metadata": {
    "collapsed": true
   },
   "outputs": [],
   "source": [
    "TRANSIT_STATIONS = {\n",
    "    \"oakland_19th_bart\": [37.8118051,-122.2720873],\n",
    "    \"macarthur_bart\": [37.8265657,-122.2686705],\n",
    "    \"rockridge_bart\": [37.841286,-122.2566329]\n",
    "    }"
   ]
  },
  {
   "cell_type": "code",
   "execution_count": 15,
   "metadata": {
    "collapsed": true
   },
   "outputs": [],
   "source": [
    "import math\n",
    "\n",
    "def coord_distance(x1,y1,x2,y2):\n",
    "    return math.sqrt((x1-x2)**2 + (y1-y2)**2)"
   ]
  },
  {
   "cell_type": "code",
   "execution_count": 16,
   "metadata": {
    "collapsed": false
   },
   "outputs": [],
   "source": [
    "min_dist=None\n",
    "near_bart=False\n",
    "bart_dist=\"N/A\"\n",
    "bart=\"\"\n",
    "MAX_TRANSIT_DIST=2 #kilometers\n",
    "\n",
    "for station,coords in TRANSIT_STATIONS.items():\n",
    "    dist=coord_distance(coords[0],coords[1],geotag[0],geotag[1])\n",
    "    if (min_dist is None or dist < min_dist) and dist < MAX_TRANSIT_DIST:\n",
    "        station = bart\n",
    "        near_bart=True\n",
    "        \n",
    "    if (min_dist is None or dist < min_dist):\n",
    "        bart_dist=dist        "
   ]
  },
  {
   "cell_type": "code",
   "execution_count": null,
   "metadata": {
    "collapsed": true
   },
   "outputs": [],
   "source": []
  }
 ],
 "metadata": {
  "anaconda-cloud": {},
  "kernelspec": {
   "display_name": "Python [default]",
   "language": "python",
   "name": "python3"
  },
  "language_info": {
   "codemirror_mode": {
    "name": "ipython",
    "version": 3
   },
   "file_extension": ".py",
   "mimetype": "text/x-python",
   "name": "python",
   "nbconvert_exporter": "python",
   "pygments_lexer": "ipython3",
   "version": "3.5.2"
  }
 },
 "nbformat": 4,
 "nbformat_minor": 1
}
