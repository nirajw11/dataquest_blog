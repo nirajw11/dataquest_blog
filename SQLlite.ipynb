{
 "cells": [
  {
   "cell_type": "code",
   "execution_count": 3,
   "metadata": {
    "collapsed": false
   },
   "outputs": [],
   "source": [
    "import sqlite3"
   ]
  },
  {
   "cell_type": "code",
   "execution_count": 4,
   "metadata": {
    "collapsed": true
   },
   "outputs": [],
   "source": [
    "import pandas as pd"
   ]
  },
  {
   "cell_type": "code",
   "execution_count": 5,
   "metadata": {
    "collapsed": true
   },
   "outputs": [],
   "source": [
    "db = sqlite3.connect(\"/home/niraj/Downloads/hubway.db\")"
   ]
  },
  {
   "cell_type": "code",
   "execution_count": 6,
   "metadata": {
    "collapsed": true
   },
   "outputs": [],
   "source": [
    "def run_query(query):\n",
    "    return pd.read_sql_query(query,db)"
   ]
  },
  {
   "cell_type": "code",
   "execution_count": 10,
   "metadata": {
    "collapsed": false
   },
   "outputs": [
    {
     "data": {
      "text/html": [
       "<div>\n",
       "<table border=\"1\" class=\"dataframe\">\n",
       "  <thead>\n",
       "    <tr style=\"text-align: right;\">\n",
       "      <th></th>\n",
       "      <th>id</th>\n",
       "      <th>duration</th>\n",
       "      <th>start_date</th>\n",
       "      <th>start_station</th>\n",
       "      <th>end_date</th>\n",
       "      <th>end_station</th>\n",
       "      <th>bike_number</th>\n",
       "      <th>sub_type</th>\n",
       "      <th>zip_code</th>\n",
       "      <th>birth_date</th>\n",
       "      <th>gender</th>\n",
       "    </tr>\n",
       "  </thead>\n",
       "  <tbody>\n",
       "    <tr>\n",
       "      <th>0</th>\n",
       "      <td>1</td>\n",
       "      <td>9</td>\n",
       "      <td>2011-07-28 10:12:00</td>\n",
       "      <td>23</td>\n",
       "      <td>2011-07-28 10:12:00</td>\n",
       "      <td>23</td>\n",
       "      <td>B00468</td>\n",
       "      <td>Registered</td>\n",
       "      <td>'97217</td>\n",
       "      <td>1976.0</td>\n",
       "      <td>Male</td>\n",
       "    </tr>\n",
       "    <tr>\n",
       "      <th>1</th>\n",
       "      <td>2</td>\n",
       "      <td>220</td>\n",
       "      <td>2011-07-28 10:21:00</td>\n",
       "      <td>23</td>\n",
       "      <td>2011-07-28 10:25:00</td>\n",
       "      <td>23</td>\n",
       "      <td>B00554</td>\n",
       "      <td>Registered</td>\n",
       "      <td>'02215</td>\n",
       "      <td>1966.0</td>\n",
       "      <td>Male</td>\n",
       "    </tr>\n",
       "    <tr>\n",
       "      <th>2</th>\n",
       "      <td>3</td>\n",
       "      <td>56</td>\n",
       "      <td>2011-07-28 10:33:00</td>\n",
       "      <td>23</td>\n",
       "      <td>2011-07-28 10:34:00</td>\n",
       "      <td>23</td>\n",
       "      <td>B00456</td>\n",
       "      <td>Registered</td>\n",
       "      <td>'02108</td>\n",
       "      <td>1943.0</td>\n",
       "      <td>Male</td>\n",
       "    </tr>\n",
       "    <tr>\n",
       "      <th>3</th>\n",
       "      <td>4</td>\n",
       "      <td>64</td>\n",
       "      <td>2011-07-28 10:35:00</td>\n",
       "      <td>23</td>\n",
       "      <td>2011-07-28 10:36:00</td>\n",
       "      <td>23</td>\n",
       "      <td>B00554</td>\n",
       "      <td>Registered</td>\n",
       "      <td>'02116</td>\n",
       "      <td>1981.0</td>\n",
       "      <td>Female</td>\n",
       "    </tr>\n",
       "    <tr>\n",
       "      <th>4</th>\n",
       "      <td>5</td>\n",
       "      <td>12</td>\n",
       "      <td>2011-07-28 10:37:00</td>\n",
       "      <td>23</td>\n",
       "      <td>2011-07-28 10:37:00</td>\n",
       "      <td>23</td>\n",
       "      <td>B00554</td>\n",
       "      <td>Registered</td>\n",
       "      <td>'97214</td>\n",
       "      <td>1983.0</td>\n",
       "      <td>Female</td>\n",
       "    </tr>\n",
       "  </tbody>\n",
       "</table>\n",
       "</div>"
      ],
      "text/plain": [
       "   id  duration           start_date  start_station             end_date  \\\n",
       "0   1         9  2011-07-28 10:12:00             23  2011-07-28 10:12:00   \n",
       "1   2       220  2011-07-28 10:21:00             23  2011-07-28 10:25:00   \n",
       "2   3        56  2011-07-28 10:33:00             23  2011-07-28 10:34:00   \n",
       "3   4        64  2011-07-28 10:35:00             23  2011-07-28 10:36:00   \n",
       "4   5        12  2011-07-28 10:37:00             23  2011-07-28 10:37:00   \n",
       "\n",
       "   end_station bike_number    sub_type zip_code  birth_date  gender  \n",
       "0           23      B00468  Registered   '97217      1976.0    Male  \n",
       "1           23      B00554  Registered   '02215      1966.0    Male  \n",
       "2           23      B00456  Registered   '02108      1943.0    Male  \n",
       "3           23      B00554  Registered   '02116      1981.0  Female  \n",
       "4           23      B00554  Registered   '97214      1983.0  Female  "
      ]
     },
     "execution_count": 10,
     "metadata": {},
     "output_type": "execute_result"
    }
   ],
   "source": [
    "query = 'SELECT * FROM trips LIMIT 5;'\n",
    "run_query(query)"
   ]
  },
  {
   "cell_type": "code",
   "execution_count": 11,
   "metadata": {
    "collapsed": false
   },
   "outputs": [
    {
     "data": {
      "text/html": [
       "<div>\n",
       "<table border=\"1\" class=\"dataframe\">\n",
       "  <thead>\n",
       "    <tr style=\"text-align: right;\">\n",
       "      <th></th>\n",
       "      <th>duration</th>\n",
       "      <th>start_date</th>\n",
       "    </tr>\n",
       "  </thead>\n",
       "  <tbody>\n",
       "    <tr>\n",
       "      <th>0</th>\n",
       "      <td>9</td>\n",
       "      <td>2011-07-28 10:12:00</td>\n",
       "    </tr>\n",
       "    <tr>\n",
       "      <th>1</th>\n",
       "      <td>220</td>\n",
       "      <td>2011-07-28 10:21:00</td>\n",
       "    </tr>\n",
       "    <tr>\n",
       "      <th>2</th>\n",
       "      <td>56</td>\n",
       "      <td>2011-07-28 10:33:00</td>\n",
       "    </tr>\n",
       "    <tr>\n",
       "      <th>3</th>\n",
       "      <td>64</td>\n",
       "      <td>2011-07-28 10:35:00</td>\n",
       "    </tr>\n",
       "    <tr>\n",
       "      <th>4</th>\n",
       "      <td>12</td>\n",
       "      <td>2011-07-28 10:37:00</td>\n",
       "    </tr>\n",
       "  </tbody>\n",
       "</table>\n",
       "</div>"
      ],
      "text/plain": [
       "   duration           start_date\n",
       "0         9  2011-07-28 10:12:00\n",
       "1       220  2011-07-28 10:21:00\n",
       "2        56  2011-07-28 10:33:00\n",
       "3        64  2011-07-28 10:35:00\n",
       "4        12  2011-07-28 10:37:00"
      ]
     },
     "execution_count": 11,
     "metadata": {},
     "output_type": "execute_result"
    }
   ],
   "source": [
    "query = 'SELECT duration, start_date FROM trips LIMIT 5'\n",
    "run_query(query)"
   ]
  },
  {
   "cell_type": "code",
   "execution_count": 12,
   "metadata": {
    "collapsed": false
   },
   "outputs": [
    {
     "data": {
      "text/html": [
       "<div>\n",
       "<table border=\"1\" class=\"dataframe\">\n",
       "  <thead>\n",
       "    <tr style=\"text-align: right;\">\n",
       "      <th></th>\n",
       "      <th>duration</th>\n",
       "    </tr>\n",
       "  </thead>\n",
       "  <tbody>\n",
       "    <tr>\n",
       "      <th>0</th>\n",
       "      <td>9999</td>\n",
       "    </tr>\n",
       "  </tbody>\n",
       "</table>\n",
       "</div>"
      ],
      "text/plain": [
       "   duration\n",
       "0      9999"
      ]
     },
     "execution_count": 12,
     "metadata": {},
     "output_type": "execute_result"
    }
   ],
   "source": [
    "query = '''\n",
    "SELECT duration \n",
    "FROM trips\n",
    "ORDER BY duration DESC\n",
    "LIMIT 1;\n",
    "'''\n",
    "\n",
    "run_query(query)"
   ]
  },
  {
   "cell_type": "code",
   "execution_count": 14,
   "metadata": {
    "collapsed": false
   },
   "outputs": [
    {
     "data": {
      "text/html": [
       "<div>\n",
       "<table border=\"1\" class=\"dataframe\">\n",
       "  <thead>\n",
       "    <tr style=\"text-align: right;\">\n",
       "      <th></th>\n",
       "      <th>id</th>\n",
       "      <th>duration</th>\n",
       "      <th>start_date</th>\n",
       "      <th>start_station</th>\n",
       "      <th>end_date</th>\n",
       "      <th>end_station</th>\n",
       "      <th>bike_number</th>\n",
       "      <th>sub_type</th>\n",
       "      <th>zip_code</th>\n",
       "      <th>birth_date</th>\n",
       "      <th>gender</th>\n",
       "    </tr>\n",
       "  </thead>\n",
       "  <tbody>\n",
       "    <tr>\n",
       "      <th>0</th>\n",
       "      <td>541247</td>\n",
       "      <td>9999</td>\n",
       "      <td>2012-09-26 18:34:00</td>\n",
       "      <td>54</td>\n",
       "      <td>2012-09-26 21:21:00</td>\n",
       "      <td>54</td>\n",
       "      <td>T01078</td>\n",
       "      <td>Casual</td>\n",
       "      <td></td>\n",
       "      <td></td>\n",
       "      <td></td>\n",
       "    </tr>\n",
       "    <tr>\n",
       "      <th>1</th>\n",
       "      <td>11341</td>\n",
       "      <td>9998</td>\n",
       "      <td>2011-08-09 10:42:00</td>\n",
       "      <td>40</td>\n",
       "      <td>2011-08-09 13:29:00</td>\n",
       "      <td>42</td>\n",
       "      <td>B00513</td>\n",
       "      <td>Casual</td>\n",
       "      <td></td>\n",
       "      <td></td>\n",
       "      <td></td>\n",
       "    </tr>\n",
       "    <tr>\n",
       "      <th>2</th>\n",
       "      <td>416523</td>\n",
       "      <td>9998</td>\n",
       "      <td>2012-08-15 12:11:00</td>\n",
       "      <td>54</td>\n",
       "      <td>2012-08-15 14:58:00</td>\n",
       "      <td>80</td>\n",
       "      <td>B00188</td>\n",
       "      <td>Casual</td>\n",
       "      <td></td>\n",
       "      <td></td>\n",
       "      <td></td>\n",
       "    </tr>\n",
       "    <tr>\n",
       "      <th>3</th>\n",
       "      <td>89335</td>\n",
       "      <td>9997</td>\n",
       "      <td>2011-10-09 02:30:00</td>\n",
       "      <td>60</td>\n",
       "      <td>2011-10-09 05:17:00</td>\n",
       "      <td>45</td>\n",
       "      <td>B00047</td>\n",
       "      <td>Casual</td>\n",
       "      <td></td>\n",
       "      <td></td>\n",
       "      <td></td>\n",
       "    </tr>\n",
       "    <tr>\n",
       "      <th>4</th>\n",
       "      <td>133967</td>\n",
       "      <td>9996</td>\n",
       "      <td>2011-11-19 13:48:00</td>\n",
       "      <td>4</td>\n",
       "      <td>2011-11-19 16:35:00</td>\n",
       "      <td>58</td>\n",
       "      <td>B00238</td>\n",
       "      <td>Casual</td>\n",
       "      <td></td>\n",
       "      <td></td>\n",
       "      <td></td>\n",
       "    </tr>\n",
       "    <tr>\n",
       "      <th>5</th>\n",
       "      <td>147451</td>\n",
       "      <td>9996</td>\n",
       "      <td>2012-03-23 14:48:00</td>\n",
       "      <td>35</td>\n",
       "      <td>2012-03-23 17:35:00</td>\n",
       "      <td>33</td>\n",
       "      <td>B00550</td>\n",
       "      <td>Casual</td>\n",
       "      <td></td>\n",
       "      <td></td>\n",
       "      <td></td>\n",
       "    </tr>\n",
       "    <tr>\n",
       "      <th>6</th>\n",
       "      <td>24455</td>\n",
       "      <td>9995</td>\n",
       "      <td>2011-08-20 12:20:00</td>\n",
       "      <td>52</td>\n",
       "      <td>2011-08-20 15:07:00</td>\n",
       "      <td>17</td>\n",
       "      <td>B00552</td>\n",
       "      <td>Casual</td>\n",
       "      <td></td>\n",
       "      <td></td>\n",
       "      <td></td>\n",
       "    </tr>\n",
       "    <tr>\n",
       "      <th>7</th>\n",
       "      <td>315737</td>\n",
       "      <td>9995</td>\n",
       "      <td>2012-07-03 18:28:00</td>\n",
       "      <td>12</td>\n",
       "      <td>2012-07-03 21:15:00</td>\n",
       "      <td>12</td>\n",
       "      <td>B00250</td>\n",
       "      <td>Registered</td>\n",
       "      <td>'02120</td>\n",
       "      <td>1964</td>\n",
       "      <td>Male</td>\n",
       "    </tr>\n",
       "    <tr>\n",
       "      <th>8</th>\n",
       "      <td>4768</td>\n",
       "      <td>9994</td>\n",
       "      <td>2011-08-03 17:16:00</td>\n",
       "      <td>22</td>\n",
       "      <td>2011-08-03 20:03:00</td>\n",
       "      <td>24</td>\n",
       "      <td>B00002</td>\n",
       "      <td>Casual</td>\n",
       "      <td></td>\n",
       "      <td></td>\n",
       "      <td></td>\n",
       "    </tr>\n",
       "    <tr>\n",
       "      <th>9</th>\n",
       "      <td>55771</td>\n",
       "      <td>9994</td>\n",
       "      <td>2011-09-14 15:44:00</td>\n",
       "      <td>40</td>\n",
       "      <td>2011-09-14 18:30:00</td>\n",
       "      <td>40</td>\n",
       "      <td>B00139</td>\n",
       "      <td>Casual</td>\n",
       "      <td></td>\n",
       "      <td></td>\n",
       "      <td></td>\n",
       "    </tr>\n",
       "  </tbody>\n",
       "</table>\n",
       "</div>"
      ],
      "text/plain": [
       "       id  duration           start_date  start_station             end_date  \\\n",
       "0  541247      9999  2012-09-26 18:34:00             54  2012-09-26 21:21:00   \n",
       "1   11341      9998  2011-08-09 10:42:00             40  2011-08-09 13:29:00   \n",
       "2  416523      9998  2012-08-15 12:11:00             54  2012-08-15 14:58:00   \n",
       "3   89335      9997  2011-10-09 02:30:00             60  2011-10-09 05:17:00   \n",
       "4  133967      9996  2011-11-19 13:48:00              4  2011-11-19 16:35:00   \n",
       "5  147451      9996  2012-03-23 14:48:00             35  2012-03-23 17:35:00   \n",
       "6   24455      9995  2011-08-20 12:20:00             52  2011-08-20 15:07:00   \n",
       "7  315737      9995  2012-07-03 18:28:00             12  2012-07-03 21:15:00   \n",
       "8    4768      9994  2011-08-03 17:16:00             22  2011-08-03 20:03:00   \n",
       "9   55771      9994  2011-09-14 15:44:00             40  2011-09-14 18:30:00   \n",
       "\n",
       "   end_station bike_number    sub_type zip_code birth_date gender  \n",
       "0           54      T01078      Casual                             \n",
       "1           42      B00513      Casual                             \n",
       "2           80      B00188      Casual                             \n",
       "3           45      B00047      Casual                             \n",
       "4           58      B00238      Casual                             \n",
       "5           33      B00550      Casual                             \n",
       "6           17      B00552      Casual                             \n",
       "7           12      B00250  Registered   '02120       1964   Male  \n",
       "8           24      B00002      Casual                             \n",
       "9           40      B00139      Casual                             "
      ]
     },
     "execution_count": 14,
     "metadata": {},
     "output_type": "execute_result"
    }
   ],
   "source": [
    "query = '''\n",
    "SELECT *\n",
    "FROM trips\n",
    "ORDER BY duration DESC\n",
    "LIMIT 10;\n",
    "'''\n",
    "\n",
    "run_query(query)"
   ]
  },
  {
   "cell_type": "code",
   "execution_count": 15,
   "metadata": {
    "collapsed": false
   },
   "outputs": [
    {
     "data": {
      "text/html": [
       "<div>\n",
       "<table border=\"1\" class=\"dataframe\">\n",
       "  <thead>\n",
       "    <tr style=\"text-align: right;\">\n",
       "      <th></th>\n",
       "      <th>id</th>\n",
       "      <th>duration</th>\n",
       "      <th>start_date</th>\n",
       "      <th>start_station</th>\n",
       "      <th>end_date</th>\n",
       "      <th>end_station</th>\n",
       "      <th>bike_number</th>\n",
       "      <th>sub_type</th>\n",
       "      <th>zip_code</th>\n",
       "      <th>birth_date</th>\n",
       "      <th>gender</th>\n",
       "    </tr>\n",
       "  </thead>\n",
       "  <tbody>\n",
       "    <tr>\n",
       "      <th>0</th>\n",
       "      <td>4768</td>\n",
       "      <td>9994</td>\n",
       "      <td>2011-08-03 17:16:00</td>\n",
       "      <td>22</td>\n",
       "      <td>2011-08-03 20:03:00</td>\n",
       "      <td>24</td>\n",
       "      <td>B00002</td>\n",
       "      <td>Casual</td>\n",
       "      <td></td>\n",
       "      <td></td>\n",
       "      <td></td>\n",
       "    </tr>\n",
       "    <tr>\n",
       "      <th>1</th>\n",
       "      <td>8448</td>\n",
       "      <td>9991</td>\n",
       "      <td>2011-08-06 13:02:00</td>\n",
       "      <td>52</td>\n",
       "      <td>2011-08-06 15:48:00</td>\n",
       "      <td>24</td>\n",
       "      <td>B00174</td>\n",
       "      <td>Casual</td>\n",
       "      <td></td>\n",
       "      <td></td>\n",
       "      <td></td>\n",
       "    </tr>\n",
       "    <tr>\n",
       "      <th>2</th>\n",
       "      <td>11341</td>\n",
       "      <td>9998</td>\n",
       "      <td>2011-08-09 10:42:00</td>\n",
       "      <td>40</td>\n",
       "      <td>2011-08-09 13:29:00</td>\n",
       "      <td>42</td>\n",
       "      <td>B00513</td>\n",
       "      <td>Casual</td>\n",
       "      <td></td>\n",
       "      <td></td>\n",
       "      <td></td>\n",
       "    </tr>\n",
       "    <tr>\n",
       "      <th>3</th>\n",
       "      <td>24455</td>\n",
       "      <td>9995</td>\n",
       "      <td>2011-08-20 12:20:00</td>\n",
       "      <td>52</td>\n",
       "      <td>2011-08-20 15:07:00</td>\n",
       "      <td>17</td>\n",
       "      <td>B00552</td>\n",
       "      <td>Casual</td>\n",
       "      <td></td>\n",
       "      <td></td>\n",
       "      <td></td>\n",
       "    </tr>\n",
       "    <tr>\n",
       "      <th>4</th>\n",
       "      <td>55771</td>\n",
       "      <td>9994</td>\n",
       "      <td>2011-09-14 15:44:00</td>\n",
       "      <td>40</td>\n",
       "      <td>2011-09-14 18:30:00</td>\n",
       "      <td>40</td>\n",
       "      <td>B00139</td>\n",
       "      <td>Casual</td>\n",
       "      <td></td>\n",
       "      <td></td>\n",
       "      <td></td>\n",
       "    </tr>\n",
       "    <tr>\n",
       "      <th>5</th>\n",
       "      <td>81191</td>\n",
       "      <td>9993</td>\n",
       "      <td>2011-10-03 11:30:00</td>\n",
       "      <td>22</td>\n",
       "      <td>2011-10-03 14:16:00</td>\n",
       "      <td>36</td>\n",
       "      <td>B00474</td>\n",
       "      <td>Casual</td>\n",
       "      <td></td>\n",
       "      <td></td>\n",
       "      <td></td>\n",
       "    </tr>\n",
       "    <tr>\n",
       "      <th>6</th>\n",
       "      <td>89335</td>\n",
       "      <td>9997</td>\n",
       "      <td>2011-10-09 02:30:00</td>\n",
       "      <td>60</td>\n",
       "      <td>2011-10-09 05:17:00</td>\n",
       "      <td>45</td>\n",
       "      <td>B00047</td>\n",
       "      <td>Casual</td>\n",
       "      <td></td>\n",
       "      <td></td>\n",
       "      <td></td>\n",
       "    </tr>\n",
       "    <tr>\n",
       "      <th>7</th>\n",
       "      <td>124500</td>\n",
       "      <td>9992</td>\n",
       "      <td>2011-11-09 09:08:00</td>\n",
       "      <td>22</td>\n",
       "      <td>2011-11-09 11:55:00</td>\n",
       "      <td>40</td>\n",
       "      <td>B00387</td>\n",
       "      <td>Casual</td>\n",
       "      <td></td>\n",
       "      <td></td>\n",
       "      <td></td>\n",
       "    </tr>\n",
       "    <tr>\n",
       "      <th>8</th>\n",
       "      <td>133967</td>\n",
       "      <td>9996</td>\n",
       "      <td>2011-11-19 13:48:00</td>\n",
       "      <td>4</td>\n",
       "      <td>2011-11-19 16:35:00</td>\n",
       "      <td>58</td>\n",
       "      <td>B00238</td>\n",
       "      <td>Casual</td>\n",
       "      <td></td>\n",
       "      <td></td>\n",
       "      <td></td>\n",
       "    </tr>\n",
       "    <tr>\n",
       "      <th>9</th>\n",
       "      <td>147451</td>\n",
       "      <td>9996</td>\n",
       "      <td>2012-03-23 14:48:00</td>\n",
       "      <td>35</td>\n",
       "      <td>2012-03-23 17:35:00</td>\n",
       "      <td>33</td>\n",
       "      <td>B00550</td>\n",
       "      <td>Casual</td>\n",
       "      <td></td>\n",
       "      <td></td>\n",
       "      <td></td>\n",
       "    </tr>\n",
       "    <tr>\n",
       "      <th>10</th>\n",
       "      <td>315737</td>\n",
       "      <td>9995</td>\n",
       "      <td>2012-07-03 18:28:00</td>\n",
       "      <td>12</td>\n",
       "      <td>2012-07-03 21:15:00</td>\n",
       "      <td>12</td>\n",
       "      <td>B00250</td>\n",
       "      <td>Registered</td>\n",
       "      <td>'02120</td>\n",
       "      <td>1964</td>\n",
       "      <td>Male</td>\n",
       "    </tr>\n",
       "    <tr>\n",
       "      <th>11</th>\n",
       "      <td>319597</td>\n",
       "      <td>9994</td>\n",
       "      <td>2012-07-05 11:49:00</td>\n",
       "      <td>52</td>\n",
       "      <td>2012-07-05 14:35:00</td>\n",
       "      <td>55</td>\n",
       "      <td>B00237</td>\n",
       "      <td>Casual</td>\n",
       "      <td></td>\n",
       "      <td></td>\n",
       "      <td></td>\n",
       "    </tr>\n",
       "    <tr>\n",
       "      <th>12</th>\n",
       "      <td>416523</td>\n",
       "      <td>9998</td>\n",
       "      <td>2012-08-15 12:11:00</td>\n",
       "      <td>54</td>\n",
       "      <td>2012-08-15 14:58:00</td>\n",
       "      <td>80</td>\n",
       "      <td>B00188</td>\n",
       "      <td>Casual</td>\n",
       "      <td></td>\n",
       "      <td></td>\n",
       "      <td></td>\n",
       "    </tr>\n",
       "    <tr>\n",
       "      <th>13</th>\n",
       "      <td>541247</td>\n",
       "      <td>9999</td>\n",
       "      <td>2012-09-26 18:34:00</td>\n",
       "      <td>54</td>\n",
       "      <td>2012-09-26 21:21:00</td>\n",
       "      <td>54</td>\n",
       "      <td>T01078</td>\n",
       "      <td>Casual</td>\n",
       "      <td></td>\n",
       "      <td></td>\n",
       "      <td></td>\n",
       "    </tr>\n",
       "  </tbody>\n",
       "</table>\n",
       "</div>"
      ],
      "text/plain": [
       "        id  duration           start_date  start_station             end_date  \\\n",
       "0     4768      9994  2011-08-03 17:16:00             22  2011-08-03 20:03:00   \n",
       "1     8448      9991  2011-08-06 13:02:00             52  2011-08-06 15:48:00   \n",
       "2    11341      9998  2011-08-09 10:42:00             40  2011-08-09 13:29:00   \n",
       "3    24455      9995  2011-08-20 12:20:00             52  2011-08-20 15:07:00   \n",
       "4    55771      9994  2011-09-14 15:44:00             40  2011-09-14 18:30:00   \n",
       "5    81191      9993  2011-10-03 11:30:00             22  2011-10-03 14:16:00   \n",
       "6    89335      9997  2011-10-09 02:30:00             60  2011-10-09 05:17:00   \n",
       "7   124500      9992  2011-11-09 09:08:00             22  2011-11-09 11:55:00   \n",
       "8   133967      9996  2011-11-19 13:48:00              4  2011-11-19 16:35:00   \n",
       "9   147451      9996  2012-03-23 14:48:00             35  2012-03-23 17:35:00   \n",
       "10  315737      9995  2012-07-03 18:28:00             12  2012-07-03 21:15:00   \n",
       "11  319597      9994  2012-07-05 11:49:00             52  2012-07-05 14:35:00   \n",
       "12  416523      9998  2012-08-15 12:11:00             54  2012-08-15 14:58:00   \n",
       "13  541247      9999  2012-09-26 18:34:00             54  2012-09-26 21:21:00   \n",
       "\n",
       "    end_station bike_number    sub_type zip_code birth_date gender  \n",
       "0            24      B00002      Casual                             \n",
       "1            24      B00174      Casual                             \n",
       "2            42      B00513      Casual                             \n",
       "3            17      B00552      Casual                             \n",
       "4            40      B00139      Casual                             \n",
       "5            36      B00474      Casual                             \n",
       "6            45      B00047      Casual                             \n",
       "7            40      B00387      Casual                             \n",
       "8            58      B00238      Casual                             \n",
       "9            33      B00550      Casual                             \n",
       "10           12      B00250  Registered   '02120       1964   Male  \n",
       "11           55      B00237      Casual                             \n",
       "12           80      B00188      Casual                             \n",
       "13           54      T01078      Casual                             "
      ]
     },
     "execution_count": 15,
     "metadata": {},
     "output_type": "execute_result"
    }
   ],
   "source": [
    "query = '''\n",
    "SELECT * \n",
    "FROM trips\n",
    "WHERE duration > 9990;\n",
    "'''\n",
    "\n",
    "run_query(query)"
   ]
  },
  {
   "cell_type": "code",
   "execution_count": 16,
   "metadata": {
    "collapsed": false
   },
   "outputs": [
    {
     "data": {
      "text/html": [
       "<div>\n",
       "<table border=\"1\" class=\"dataframe\">\n",
       "  <thead>\n",
       "    <tr style=\"text-align: right;\">\n",
       "      <th></th>\n",
       "      <th>id</th>\n",
       "      <th>duration</th>\n",
       "      <th>start_date</th>\n",
       "      <th>start_station</th>\n",
       "      <th>end_date</th>\n",
       "      <th>end_station</th>\n",
       "      <th>bike_number</th>\n",
       "      <th>sub_type</th>\n",
       "      <th>zip_code</th>\n",
       "      <th>birth_date</th>\n",
       "      <th>gender</th>\n",
       "    </tr>\n",
       "  </thead>\n",
       "  <tbody>\n",
       "    <tr>\n",
       "      <th>0</th>\n",
       "      <td>315737</td>\n",
       "      <td>9995</td>\n",
       "      <td>2012-07-03 18:28:00</td>\n",
       "      <td>12</td>\n",
       "      <td>2012-07-03 21:15:00</td>\n",
       "      <td>12</td>\n",
       "      <td>B00250</td>\n",
       "      <td>Registered</td>\n",
       "      <td>'02120</td>\n",
       "      <td>1964.0</td>\n",
       "      <td>Male</td>\n",
       "    </tr>\n",
       "  </tbody>\n",
       "</table>\n",
       "</div>"
      ],
      "text/plain": [
       "       id  duration           start_date  start_station             end_date  \\\n",
       "0  315737      9995  2012-07-03 18:28:00             12  2012-07-03 21:15:00   \n",
       "\n",
       "   end_station bike_number    sub_type zip_code  birth_date gender  \n",
       "0           12      B00250  Registered   '02120      1964.0   Male  "
      ]
     },
     "execution_count": 16,
     "metadata": {},
     "output_type": "execute_result"
    }
   ],
   "source": [
    "query = '''\n",
    "SELECT * \n",
    "FROM trips\n",
    "WHERE (duration >= 9990) AND (sub_type = \"Registered\")\n",
    "ORDER BY duration DESC;\n",
    "'''\n",
    "\n",
    "run_query(query)"
   ]
  },
  {
   "cell_type": "code",
   "execution_count": 18,
   "metadata": {
    "collapsed": false
   },
   "outputs": [
    {
     "data": {
      "text/html": [
       "<div>\n",
       "<table border=\"1\" class=\"dataframe\">\n",
       "  <thead>\n",
       "    <tr style=\"text-align: right;\">\n",
       "      <th></th>\n",
       "      <th>COUNT(*)</th>\n",
       "    </tr>\n",
       "  </thead>\n",
       "  <tbody>\n",
       "    <tr>\n",
       "      <th>0</th>\n",
       "      <td>1105192</td>\n",
       "    </tr>\n",
       "  </tbody>\n",
       "</table>\n",
       "</div>"
      ],
      "text/plain": [
       "   COUNT(*)\n",
       "0   1105192"
      ]
     },
     "execution_count": 18,
     "metadata": {},
     "output_type": "execute_result"
    }
   ],
   "source": [
    "query='''\n",
    "SELECT COUNT(*) FROM trips where sub_type=\"Registered\"\n",
    "'''\n",
    "run_query(query)"
   ]
  },
  {
   "cell_type": "code",
   "execution_count": 19,
   "metadata": {
    "collapsed": false
   },
   "outputs": [
    {
     "data": {
      "text/html": [
       "<div>\n",
       "<table border=\"1\" class=\"dataframe\">\n",
       "  <thead>\n",
       "    <tr style=\"text-align: right;\">\n",
       "      <th></th>\n",
       "      <th>Total trips by registered users</th>\n",
       "    </tr>\n",
       "  </thead>\n",
       "  <tbody>\n",
       "    <tr>\n",
       "      <th>0</th>\n",
       "      <td>1105192</td>\n",
       "    </tr>\n",
       "  </tbody>\n",
       "</table>\n",
       "</div>"
      ],
      "text/plain": [
       "   Total trips by registered users\n",
       "0                          1105192"
      ]
     },
     "execution_count": 19,
     "metadata": {},
     "output_type": "execute_result"
    }
   ],
   "source": [
    "query='''\n",
    "SELECT COUNT(*) AS \"Total trips by registered users\"\n",
    "FROM trips where sub_type=\"Registered\"\n",
    "'''\n",
    "run_query(query)"
   ]
  },
  {
   "cell_type": "code",
   "execution_count": 22,
   "metadata": {
    "collapsed": false
   },
   "outputs": [
    {
     "data": {
      "text/html": [
       "<div>\n",
       "<table border=\"1\" class=\"dataframe\">\n",
       "  <thead>\n",
       "    <tr style=\"text-align: right;\">\n",
       "      <th></th>\n",
       "      <th>Average Duration</th>\n",
       "    </tr>\n",
       "  </thead>\n",
       "  <tbody>\n",
       "    <tr>\n",
       "      <th>0</th>\n",
       "      <td>912.409682</td>\n",
       "    </tr>\n",
       "  </tbody>\n",
       "</table>\n",
       "</div>"
      ],
      "text/plain": [
       "   Average Duration\n",
       "0        912.409682"
      ]
     },
     "execution_count": 22,
     "metadata": {},
     "output_type": "execute_result"
    }
   ],
   "source": [
    "query = '''\n",
    "SELECT AVG(duration) as \"Average Duration\" from trips'''\n",
    "\n",
    "run_query(query)"
   ]
  },
  {
   "cell_type": "code",
   "execution_count": 24,
   "metadata": {
    "collapsed": false
   },
   "outputs": [
    {
     "data": {
      "text/html": [
       "<div>\n",
       "<table border=\"1\" class=\"dataframe\">\n",
       "  <thead>\n",
       "    <tr style=\"text-align: right;\">\n",
       "      <th></th>\n",
       "      <th>sub_type</th>\n",
       "      <th>Average Duration</th>\n",
       "    </tr>\n",
       "  </thead>\n",
       "  <tbody>\n",
       "    <tr>\n",
       "      <th>0</th>\n",
       "      <td>Casual</td>\n",
       "      <td>1519.643897</td>\n",
       "    </tr>\n",
       "    <tr>\n",
       "      <th>1</th>\n",
       "      <td>Registered</td>\n",
       "      <td>657.026067</td>\n",
       "    </tr>\n",
       "  </tbody>\n",
       "</table>\n",
       "</div>"
      ],
      "text/plain": [
       "     sub_type  Average Duration\n",
       "0      Casual       1519.643897\n",
       "1  Registered        657.026067"
      ]
     },
     "execution_count": 24,
     "metadata": {},
     "output_type": "execute_result"
    }
   ],
   "source": [
    "query='''\n",
    "SELECT sub_type,avg(duration) as \"Average Duration\"\n",
    "from trips group by sub_type\n",
    "'''\n",
    "\n",
    "run_query(query)"
   ]
  },
  {
   "cell_type": "code",
   "execution_count": 26,
   "metadata": {
    "collapsed": false
   },
   "outputs": [
    {
     "data": {
      "text/html": [
       "<div>\n",
       "<table border=\"1\" class=\"dataframe\">\n",
       "  <thead>\n",
       "    <tr style=\"text-align: right;\">\n",
       "      <th></th>\n",
       "      <th>bike_number</th>\n",
       "      <th>Number of trips</th>\n",
       "    </tr>\n",
       "  </thead>\n",
       "  <tbody>\n",
       "    <tr>\n",
       "      <th>0</th>\n",
       "      <td>B00490</td>\n",
       "      <td>2120</td>\n",
       "    </tr>\n",
       "  </tbody>\n",
       "</table>\n",
       "</div>"
      ],
      "text/plain": [
       "  bike_number  Number of trips\n",
       "0      B00490             2120"
      ]
     },
     "execution_count": 26,
     "metadata": {},
     "output_type": "execute_result"
    }
   ],
   "source": [
    "query='''\n",
    "SELeCT bike_number , count(*) as \"Number of trips\" from trips\n",
    "group by bike_number\n",
    "order by count(*) desc\n",
    "limit 1'''\n",
    "\n",
    "run_query(query)"
   ]
  },
  {
   "cell_type": "code",
   "execution_count": 27,
   "metadata": {
    "collapsed": false
   },
   "outputs": [
    {
     "data": {
      "text/html": [
       "<div>\n",
       "<table border=\"1\" class=\"dataframe\">\n",
       "  <thead>\n",
       "    <tr style=\"text-align: right;\">\n",
       "      <th></th>\n",
       "      <th>Average Duration</th>\n",
       "    </tr>\n",
       "  </thead>\n",
       "  <tbody>\n",
       "    <tr>\n",
       "      <th>0</th>\n",
       "      <td>923.014685</td>\n",
       "    </tr>\n",
       "  </tbody>\n",
       "</table>\n",
       "</div>"
      ],
      "text/plain": [
       "   Average Duration\n",
       "0        923.014685"
      ]
     },
     "execution_count": 27,
     "metadata": {},
     "output_type": "execute_result"
    }
   ],
   "source": [
    "query = '''\n",
    "SELECT avg(duration) as \"Average Duration\"\n",
    "from trips\n",
    "where (2017 - birth_date) > 30\n",
    "'''\n",
    "\n",
    "run_query(query)"
   ]
  },
  {
   "cell_type": "code",
   "execution_count": 28,
   "metadata": {
    "collapsed": false
   },
   "outputs": [
    {
     "data": {
      "text/html": [
       "<div>\n",
       "<table border=\"1\" class=\"dataframe\">\n",
       "  <thead>\n",
       "    <tr style=\"text-align: right;\">\n",
       "      <th></th>\n",
       "      <th>id</th>\n",
       "      <th>station</th>\n",
       "      <th>municipality</th>\n",
       "      <th>lat</th>\n",
       "      <th>lng</th>\n",
       "    </tr>\n",
       "  </thead>\n",
       "  <tbody>\n",
       "    <tr>\n",
       "      <th>0</th>\n",
       "      <td>3</td>\n",
       "      <td>Colleges of the Fenway</td>\n",
       "      <td>Boston</td>\n",
       "      <td>42.340021</td>\n",
       "      <td>-71.100812</td>\n",
       "    </tr>\n",
       "    <tr>\n",
       "      <th>1</th>\n",
       "      <td>4</td>\n",
       "      <td>Tremont St. at Berkeley St.</td>\n",
       "      <td>Boston</td>\n",
       "      <td>42.345392</td>\n",
       "      <td>-71.069616</td>\n",
       "    </tr>\n",
       "    <tr>\n",
       "      <th>2</th>\n",
       "      <td>5</td>\n",
       "      <td>Northeastern U / North Parking Lot</td>\n",
       "      <td>Boston</td>\n",
       "      <td>42.341814</td>\n",
       "      <td>-71.090179</td>\n",
       "    </tr>\n",
       "    <tr>\n",
       "      <th>3</th>\n",
       "      <td>6</td>\n",
       "      <td>Cambridge St. at Joy St.</td>\n",
       "      <td>Boston</td>\n",
       "      <td>42.361284999999995</td>\n",
       "      <td>-71.06514</td>\n",
       "    </tr>\n",
       "    <tr>\n",
       "      <th>4</th>\n",
       "      <td>7</td>\n",
       "      <td>Fan Pier</td>\n",
       "      <td>Boston</td>\n",
       "      <td>42.353412</td>\n",
       "      <td>-71.044624</td>\n",
       "    </tr>\n",
       "  </tbody>\n",
       "</table>\n",
       "</div>"
      ],
      "text/plain": [
       "   id                             station municipality                 lat  \\\n",
       "0   3              Colleges of the Fenway       Boston           42.340021   \n",
       "1   4         Tremont St. at Berkeley St.       Boston           42.345392   \n",
       "2   5  Northeastern U / North Parking Lot       Boston           42.341814   \n",
       "3   6            Cambridge St. at Joy St.       Boston  42.361284999999995   \n",
       "4   7                            Fan Pier       Boston           42.353412   \n",
       "\n",
       "          lng  \n",
       "0  -71.100812  \n",
       "1  -71.069616  \n",
       "2  -71.090179  \n",
       "3   -71.06514  \n",
       "4  -71.044624  "
      ]
     },
     "execution_count": 28,
     "metadata": {},
     "output_type": "execute_result"
    }
   ],
   "source": [
    "query = '''\n",
    "SELECT *\n",
    "FROM stations\n",
    "LIMIT 5;\n",
    "'''\n",
    "run_query(query)"
   ]
  },
  {
   "cell_type": "code",
   "execution_count": 31,
   "metadata": {
    "collapsed": false
   },
   "outputs": [
    {
     "data": {
      "text/html": [
       "<div>\n",
       "<table border=\"1\" class=\"dataframe\">\n",
       "  <thead>\n",
       "    <tr style=\"text-align: right;\">\n",
       "      <th></th>\n",
       "      <th>station</th>\n",
       "      <th>count of start station</th>\n",
       "    </tr>\n",
       "  </thead>\n",
       "  <tbody>\n",
       "    <tr>\n",
       "      <th>0</th>\n",
       "      <td>South Station - 700 Atlantic Ave.</td>\n",
       "      <td>56123</td>\n",
       "    </tr>\n",
       "    <tr>\n",
       "      <th>1</th>\n",
       "      <td>Boston Public Library - 700 Boylston St.</td>\n",
       "      <td>41994</td>\n",
       "    </tr>\n",
       "    <tr>\n",
       "      <th>2</th>\n",
       "      <td>Charles Circle - Charles St. at Cambridge St.</td>\n",
       "      <td>35984</td>\n",
       "    </tr>\n",
       "    <tr>\n",
       "      <th>3</th>\n",
       "      <td>Beacon St / Mass Ave</td>\n",
       "      <td>35275</td>\n",
       "    </tr>\n",
       "    <tr>\n",
       "      <th>4</th>\n",
       "      <td>MIT at Mass Ave / Amherst St</td>\n",
       "      <td>33644</td>\n",
       "    </tr>\n",
       "  </tbody>\n",
       "</table>\n",
       "</div>"
      ],
      "text/plain": [
       "                                         station  count of start station\n",
       "0              South Station - 700 Atlantic Ave.                   56123\n",
       "1       Boston Public Library - 700 Boylston St.                   41994\n",
       "2  Charles Circle - Charles St. at Cambridge St.                   35984\n",
       "3                           Beacon St / Mass Ave                   35275\n",
       "4                   MIT at Mass Ave / Amherst St                   33644"
      ]
     },
     "execution_count": 31,
     "metadata": {},
     "output_type": "execute_result"
    }
   ],
   "source": [
    "query='''\n",
    "select stations.station, count(*) as \"count of start station\" from\n",
    "trips join stations\n",
    "on trips.start_station = stations.id\n",
    "group by stations.station\n",
    "order by count(*) desc\n",
    "limit 5;'''\n",
    "run_query(query)"
   ]
  },
  {
   "cell_type": "code",
   "execution_count": 33,
   "metadata": {
    "collapsed": false
   },
   "outputs": [
    {
     "data": {
      "text/html": [
       "<div>\n",
       "<table border=\"1\" class=\"dataframe\">\n",
       "  <thead>\n",
       "    <tr style=\"text-align: right;\">\n",
       "      <th></th>\n",
       "      <th>station</th>\n",
       "      <th>count of round trips</th>\n",
       "    </tr>\n",
       "  </thead>\n",
       "  <tbody>\n",
       "    <tr>\n",
       "      <th>0</th>\n",
       "      <td>The Esplanade - Beacon St. at Arlington St.</td>\n",
       "      <td>3064</td>\n",
       "    </tr>\n",
       "    <tr>\n",
       "      <th>1</th>\n",
       "      <td>Charles Circle - Charles St. at Cambridge St.</td>\n",
       "      <td>2739</td>\n",
       "    </tr>\n",
       "    <tr>\n",
       "      <th>2</th>\n",
       "      <td>Boston Public Library - 700 Boylston St.</td>\n",
       "      <td>2548</td>\n",
       "    </tr>\n",
       "    <tr>\n",
       "      <th>3</th>\n",
       "      <td>Boylston St. at Arlington St.</td>\n",
       "      <td>2163</td>\n",
       "    </tr>\n",
       "    <tr>\n",
       "      <th>4</th>\n",
       "      <td>Beacon St / Mass Ave</td>\n",
       "      <td>2144</td>\n",
       "    </tr>\n",
       "  </tbody>\n",
       "</table>\n",
       "</div>"
      ],
      "text/plain": [
       "                                         station  count of round trips\n",
       "0    The Esplanade - Beacon St. at Arlington St.                  3064\n",
       "1  Charles Circle - Charles St. at Cambridge St.                  2739\n",
       "2       Boston Public Library - 700 Boylston St.                  2548\n",
       "3                  Boylston St. at Arlington St.                  2163\n",
       "4                           Beacon St / Mass Ave                  2144"
      ]
     },
     "execution_count": 33,
     "metadata": {},
     "output_type": "execute_result"
    }
   ],
   "source": [
    "query='''\n",
    "select stations.station, count(*) as \"count of round trips\" from\n",
    "trips join stations\n",
    "on trips.start_station = stations.station\n",
    "where trips.end_station = trips.start_station\n",
    "group by stations.station\n",
    "order by count(*) desc\n",
    "limit 5;'''\n",
    "run_query(query)"
   ]
  },
  {
   "cell_type": "code",
   "execution_count": 44,
   "metadata": {
    "collapsed": false
   },
   "outputs": [
    {
     "data": {
      "text/html": [
       "<div>\n",
       "<table border=\"1\" class=\"dataframe\">\n",
       "  <thead>\n",
       "    <tr style=\"text-align: right;\">\n",
       "      <th></th>\n",
       "      <th>Count</th>\n",
       "    </tr>\n",
       "  </thead>\n",
       "  <tbody>\n",
       "    <tr>\n",
       "      <th>0</th>\n",
       "      <td>309748</td>\n",
       "    </tr>\n",
       "  </tbody>\n",
       "</table>\n",
       "</div>"
      ],
      "text/plain": [
       "    Count\n",
       "0  309748"
      ]
     },
     "execution_count": 44,
     "metadata": {},
     "output_type": "execute_result"
    }
   ],
   "source": [
    "query = '''\n",
    "select count(*) as \"Count\"\n",
    "from trips join stations s1 \n",
    "on s1.id = trips.start_station\n",
    "join stations s2\n",
    "on s2.id = trips.end_station\n",
    "where s1.municipality <> s2.municipality\n",
    "'''\n",
    "\n",
    "run_query(query)"
   ]
  },
  {
   "cell_type": "code",
   "execution_count": 45,
   "metadata": {
    "collapsed": false
   },
   "outputs": [
    {
     "data": {
      "text/html": [
       "<div>\n",
       "<table border=\"1\" class=\"dataframe\">\n",
       "  <thead>\n",
       "    <tr style=\"text-align: right;\">\n",
       "      <th></th>\n",
       "      <th>count(*)</th>\n",
       "    </tr>\n",
       "  </thead>\n",
       "  <tbody>\n",
       "    <tr>\n",
       "      <th>0</th>\n",
       "      <td>123155</td>\n",
       "    </tr>\n",
       "  </tbody>\n",
       "</table>\n",
       "</div>"
      ],
      "text/plain": [
       "   count(*)\n",
       "0    123155"
      ]
     },
     "execution_count": 45,
     "metadata": {},
     "output_type": "execute_result"
    }
   ],
   "source": [
    "query='''\n",
    "select count(*) from trips where duration > 1800'''\n",
    "run_query(query)"
   ]
  },
  {
   "cell_type": "code",
   "execution_count": 51,
   "metadata": {
    "collapsed": false
   },
   "outputs": [
    {
     "data": {
      "text/html": [
       "<div>\n",
       "<table border=\"1\" class=\"dataframe\">\n",
       "  <thead>\n",
       "    <tr style=\"text-align: right;\">\n",
       "      <th></th>\n",
       "      <th>bike_number</th>\n",
       "      <th>duration</th>\n",
       "    </tr>\n",
       "  </thead>\n",
       "  <tbody>\n",
       "    <tr>\n",
       "      <th>0</th>\n",
       "      <td>T01078</td>\n",
       "      <td>9999</td>\n",
       "    </tr>\n",
       "  </tbody>\n",
       "</table>\n",
       "</div>"
      ],
      "text/plain": [
       "  bike_number  duration\n",
       "0      T01078      9999"
      ]
     },
     "execution_count": 51,
     "metadata": {},
     "output_type": "execute_result"
    }
   ],
   "source": [
    "query = '''\n",
    "select bike_number,duration from trips\n",
    "where duration in (select max(duration) from trips)\n",
    "'''\n",
    "run_query(query)"
   ]
  },
  {
   "cell_type": "code",
   "execution_count": 54,
   "metadata": {
    "collapsed": false
   },
   "outputs": [
    {
     "data": {
      "text/html": [
       "<div>\n",
       "<table border=\"1\" class=\"dataframe\">\n",
       "  <thead>\n",
       "    <tr style=\"text-align: right;\">\n",
       "      <th></th>\n",
       "      <th>sub_type</th>\n",
       "      <th>Count</th>\n",
       "    </tr>\n",
       "  </thead>\n",
       "  <tbody>\n",
       "    <tr>\n",
       "      <th>0</th>\n",
       "      <td>Casual</td>\n",
       "      <td>41427</td>\n",
       "    </tr>\n",
       "    <tr>\n",
       "      <th>1</th>\n",
       "      <td>Registered</td>\n",
       "      <td>31641</td>\n",
       "    </tr>\n",
       "  </tbody>\n",
       "</table>\n",
       "</div>"
      ],
      "text/plain": [
       "     sub_type  Count\n",
       "0      Casual  41427\n",
       "1  Registered  31641"
      ]
     },
     "execution_count": 54,
     "metadata": {},
     "output_type": "execute_result"
    }
   ],
   "source": [
    "query='''\n",
    "select sub_type,count(*) as \"Count\"\n",
    "from trips\n",
    "where trips.end_station = trips.start_station\n",
    "group by sub_type'''\n",
    "run_query(query)"
   ]
  },
  {
   "cell_type": "code",
   "execution_count": 63,
   "metadata": {
    "collapsed": false
   },
   "outputs": [
    {
     "data": {
      "text/html": [
       "<div>\n",
       "<table border=\"1\" class=\"dataframe\">\n",
       "  <thead>\n",
       "    <tr style=\"text-align: right;\">\n",
       "      <th></th>\n",
       "      <th>municipality</th>\n",
       "      <th>Average Duration</th>\n",
       "    </tr>\n",
       "  </thead>\n",
       "  <tbody>\n",
       "    <tr>\n",
       "      <th>0</th>\n",
       "      <td>Brookline</td>\n",
       "      <td>1025.802670</td>\n",
       "    </tr>\n",
       "    <tr>\n",
       "      <th>1</th>\n",
       "      <td>Boston</td>\n",
       "      <td>896.866636</td>\n",
       "    </tr>\n",
       "    <tr>\n",
       "      <th>2</th>\n",
       "      <td>Somerville</td>\n",
       "      <td>845.710733</td>\n",
       "    </tr>\n",
       "    <tr>\n",
       "      <th>3</th>\n",
       "      <td>Cambridge</td>\n",
       "      <td>826.447719</td>\n",
       "    </tr>\n",
       "  </tbody>\n",
       "</table>\n",
       "</div>"
      ],
      "text/plain": [
       "  municipality  Average Duration\n",
       "0    Brookline       1025.802670\n",
       "1       Boston        896.866636\n",
       "2   Somerville        845.710733\n",
       "3    Cambridge        826.447719"
      ]
     },
     "execution_count": 63,
     "metadata": {},
     "output_type": "execute_result"
    }
   ],
   "source": [
    "query = '''\n",
    "select stations.municipality,avg(trips.duration) as \"Average Duration\"\n",
    "from trips join stations \n",
    "on (trips.start_station = stations.id\n",
    "and trips.end_station = stations.id)\n",
    "or\n",
    "(trips.start_station = stations.id)\n",
    "or\n",
    "(trips.end_station=stations.id)\n",
    "group by 1\n",
    "order by 2 desc\n",
    "'''\n",
    "\n",
    "run_query(query)"
   ]
  },
  {
   "cell_type": "code",
   "execution_count": null,
   "metadata": {
    "collapsed": true
   },
   "outputs": [],
   "source": []
  }
 ],
 "metadata": {
  "anaconda-cloud": {},
  "kernelspec": {
   "display_name": "Python [default]",
   "language": "python",
   "name": "python3"
  },
  "language_info": {
   "codemirror_mode": {
    "name": "ipython",
    "version": 3
   },
   "file_extension": ".py",
   "mimetype": "text/x-python",
   "name": "python",
   "nbconvert_exporter": "python",
   "pygments_lexer": "ipython3",
   "version": "3.5.2"
  }
 },
 "nbformat": 4,
 "nbformat_minor": 1
}
